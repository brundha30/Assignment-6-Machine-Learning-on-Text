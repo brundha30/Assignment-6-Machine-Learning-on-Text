{
 "cells": [
  {
   "cell_type": "code",
   "execution_count": 1,
   "metadata": {},
   "outputs": [],
   "source": [
    "import pandas as pd\n",
    "import numpy as np\n",
    "import matplotlib.pyplot as plt\n",
    "import seaborn as sns\n",
    "import warnings \n",
    "warnings.filterwarnings(\"ignore\")"
   ]
  },
  {
   "cell_type": "code",
   "execution_count": 2,
   "metadata": {},
   "outputs": [],
   "source": [
    "data_1 = pd.read_csv(\"train.csv\")\n",
    "data_2 = pd.read_csv(\"test.csv\")"
   ]
  },
  {
   "cell_type": "code",
   "execution_count": 3,
   "metadata": {},
   "outputs": [
    {
     "data": {
      "text/html": [
       "<div>\n",
       "<style scoped>\n",
       "    .dataframe tbody tr th:only-of-type {\n",
       "        vertical-align: middle;\n",
       "    }\n",
       "\n",
       "    .dataframe tbody tr th {\n",
       "        vertical-align: top;\n",
       "    }\n",
       "\n",
       "    .dataframe thead th {\n",
       "        text-align: right;\n",
       "    }\n",
       "</style>\n",
       "<table border=\"1\" class=\"dataframe\">\n",
       "  <thead>\n",
       "    <tr style=\"text-align: right;\">\n",
       "      <th></th>\n",
       "      <th>id</th>\n",
       "      <th>url_legal</th>\n",
       "      <th>license</th>\n",
       "      <th>excerpt</th>\n",
       "      <th>target</th>\n",
       "      <th>standard_error</th>\n",
       "    </tr>\n",
       "  </thead>\n",
       "  <tbody>\n",
       "    <tr>\n",
       "      <th>0</th>\n",
       "      <td>c12129c31</td>\n",
       "      <td>NaN</td>\n",
       "      <td>NaN</td>\n",
       "      <td>When the young people returned to the ballroom...</td>\n",
       "      <td>-0.340259</td>\n",
       "      <td>0.464009</td>\n",
       "    </tr>\n",
       "    <tr>\n",
       "      <th>1</th>\n",
       "      <td>85aa80a4c</td>\n",
       "      <td>NaN</td>\n",
       "      <td>NaN</td>\n",
       "      <td>All through dinner time, Mrs. Fayre was somewh...</td>\n",
       "      <td>-0.315372</td>\n",
       "      <td>0.480805</td>\n",
       "    </tr>\n",
       "    <tr>\n",
       "      <th>2</th>\n",
       "      <td>b69ac6792</td>\n",
       "      <td>NaN</td>\n",
       "      <td>NaN</td>\n",
       "      <td>As Roger had predicted, the snow departed as q...</td>\n",
       "      <td>-0.580118</td>\n",
       "      <td>0.476676</td>\n",
       "    </tr>\n",
       "    <tr>\n",
       "      <th>3</th>\n",
       "      <td>dd1000b26</td>\n",
       "      <td>NaN</td>\n",
       "      <td>NaN</td>\n",
       "      <td>And outside before the palace a great garden w...</td>\n",
       "      <td>-1.054013</td>\n",
       "      <td>0.450007</td>\n",
       "    </tr>\n",
       "    <tr>\n",
       "      <th>4</th>\n",
       "      <td>37c1b32fb</td>\n",
       "      <td>NaN</td>\n",
       "      <td>NaN</td>\n",
       "      <td>Once upon a time there were Three Bears who li...</td>\n",
       "      <td>0.247197</td>\n",
       "      <td>0.510845</td>\n",
       "    </tr>\n",
       "  </tbody>\n",
       "</table>\n",
       "</div>"
      ],
      "text/plain": [
       "          id url_legal license  \\\n",
       "0  c12129c31       NaN     NaN   \n",
       "1  85aa80a4c       NaN     NaN   \n",
       "2  b69ac6792       NaN     NaN   \n",
       "3  dd1000b26       NaN     NaN   \n",
       "4  37c1b32fb       NaN     NaN   \n",
       "\n",
       "                                             excerpt    target  standard_error  \n",
       "0  When the young people returned to the ballroom... -0.340259        0.464009  \n",
       "1  All through dinner time, Mrs. Fayre was somewh... -0.315372        0.480805  \n",
       "2  As Roger had predicted, the snow departed as q... -0.580118        0.476676  \n",
       "3  And outside before the palace a great garden w... -1.054013        0.450007  \n",
       "4  Once upon a time there were Three Bears who li...  0.247197        0.510845  "
      ]
     },
     "execution_count": 3,
     "metadata": {},
     "output_type": "execute_result"
    }
   ],
   "source": [
    "data_1.head()"
   ]
  },
  {
   "cell_type": "code",
   "execution_count": 4,
   "metadata": {},
   "outputs": [
    {
     "data": {
      "text/html": [
       "<div>\n",
       "<style scoped>\n",
       "    .dataframe tbody tr th:only-of-type {\n",
       "        vertical-align: middle;\n",
       "    }\n",
       "\n",
       "    .dataframe tbody tr th {\n",
       "        vertical-align: top;\n",
       "    }\n",
       "\n",
       "    .dataframe thead th {\n",
       "        text-align: right;\n",
       "    }\n",
       "</style>\n",
       "<table border=\"1\" class=\"dataframe\">\n",
       "  <thead>\n",
       "    <tr style=\"text-align: right;\">\n",
       "      <th></th>\n",
       "      <th>id</th>\n",
       "      <th>url_legal</th>\n",
       "      <th>license</th>\n",
       "      <th>excerpt</th>\n",
       "    </tr>\n",
       "  </thead>\n",
       "  <tbody>\n",
       "    <tr>\n",
       "      <th>0</th>\n",
       "      <td>c0f722661</td>\n",
       "      <td>NaN</td>\n",
       "      <td>NaN</td>\n",
       "      <td>My hope lay in Jack's promise that he would ke...</td>\n",
       "    </tr>\n",
       "    <tr>\n",
       "      <th>1</th>\n",
       "      <td>f0953f0a5</td>\n",
       "      <td>NaN</td>\n",
       "      <td>NaN</td>\n",
       "      <td>Dotty continued to go to Mrs. Gray's every nig...</td>\n",
       "    </tr>\n",
       "    <tr>\n",
       "      <th>2</th>\n",
       "      <td>0df072751</td>\n",
       "      <td>NaN</td>\n",
       "      <td>NaN</td>\n",
       "      <td>It was a bright and cheerful scene that greete...</td>\n",
       "    </tr>\n",
       "    <tr>\n",
       "      <th>3</th>\n",
       "      <td>04caf4e0c</td>\n",
       "      <td>https://en.wikipedia.org/wiki/Cell_division</td>\n",
       "      <td>CC BY-SA 3.0</td>\n",
       "      <td>Cell division is the process by which a parent...</td>\n",
       "    </tr>\n",
       "    <tr>\n",
       "      <th>4</th>\n",
       "      <td>0e63f8bea</td>\n",
       "      <td>https://en.wikipedia.org/wiki/Debugging</td>\n",
       "      <td>CC BY-SA 3.0</td>\n",
       "      <td>Debugging is the process of finding and resolv...</td>\n",
       "    </tr>\n",
       "  </tbody>\n",
       "</table>\n",
       "</div>"
      ],
      "text/plain": [
       "          id                                    url_legal       license  \\\n",
       "0  c0f722661                                          NaN           NaN   \n",
       "1  f0953f0a5                                          NaN           NaN   \n",
       "2  0df072751                                          NaN           NaN   \n",
       "3  04caf4e0c  https://en.wikipedia.org/wiki/Cell_division  CC BY-SA 3.0   \n",
       "4  0e63f8bea      https://en.wikipedia.org/wiki/Debugging  CC BY-SA 3.0   \n",
       "\n",
       "                                             excerpt  \n",
       "0  My hope lay in Jack's promise that he would ke...  \n",
       "1  Dotty continued to go to Mrs. Gray's every nig...  \n",
       "2  It was a bright and cheerful scene that greete...  \n",
       "3  Cell division is the process by which a parent...  \n",
       "4  Debugging is the process of finding and resolv...  "
      ]
     },
     "execution_count": 4,
     "metadata": {},
     "output_type": "execute_result"
    }
   ],
   "source": [
    "data_2.head()"
   ]
  },
  {
   "cell_type": "code",
   "execution_count": 5,
   "metadata": {},
   "outputs": [
    {
     "data": {
      "text/plain": [
       "(2834, 6)"
      ]
     },
     "execution_count": 5,
     "metadata": {},
     "output_type": "execute_result"
    }
   ],
   "source": [
    "data_1.shape"
   ]
  },
  {
   "cell_type": "code",
   "execution_count": 6,
   "metadata": {},
   "outputs": [
    {
     "data": {
      "text/plain": [
       "(7, 4)"
      ]
     },
     "execution_count": 6,
     "metadata": {},
     "output_type": "execute_result"
    }
   ],
   "source": [
    "data_2.shape"
   ]
  },
  {
   "cell_type": "code",
   "execution_count": 7,
   "metadata": {},
   "outputs": [
    {
     "name": "stdout",
     "output_type": "stream",
     "text": [
      "<class 'pandas.core.frame.DataFrame'>\n",
      "RangeIndex: 2834 entries, 0 to 2833\n",
      "Data columns (total 6 columns):\n",
      " #   Column          Non-Null Count  Dtype  \n",
      "---  ------          --------------  -----  \n",
      " 0   id              2834 non-null   object \n",
      " 1   url_legal       830 non-null    object \n",
      " 2   license         830 non-null    object \n",
      " 3   excerpt         2834 non-null   object \n",
      " 4   target          2834 non-null   float64\n",
      " 5   standard_error  2834 non-null   float64\n",
      "dtypes: float64(2), object(4)\n",
      "memory usage: 133.0+ KB\n"
     ]
    }
   ],
   "source": [
    "data_1.info()"
   ]
  },
  {
   "cell_type": "code",
   "execution_count": 8,
   "metadata": {},
   "outputs": [
    {
     "name": "stdout",
     "output_type": "stream",
     "text": [
      "<class 'pandas.core.frame.DataFrame'>\n",
      "RangeIndex: 7 entries, 0 to 6\n",
      "Data columns (total 4 columns):\n",
      " #   Column     Non-Null Count  Dtype \n",
      "---  ------     --------------  ----- \n",
      " 0   id         7 non-null      object\n",
      " 1   url_legal  3 non-null      object\n",
      " 2   license    3 non-null      object\n",
      " 3   excerpt    7 non-null      object\n",
      "dtypes: object(4)\n",
      "memory usage: 352.0+ bytes\n"
     ]
    }
   ],
   "source": [
    "data_2.info()"
   ]
  },
  {
   "cell_type": "code",
   "execution_count": 9,
   "metadata": {},
   "outputs": [
    {
     "data": {
      "text/plain": [
       "id                 0.00\n",
       "url_legal         20.04\n",
       "license           20.04\n",
       "excerpt            0.00\n",
       "target             0.00\n",
       "standard_error     0.00\n",
       "dtype: float64"
      ]
     },
     "execution_count": 9,
     "metadata": {},
     "output_type": "execute_result"
    }
   ],
   "source": [
    "data_1.isnull().sum()/100"
   ]
  },
  {
   "cell_type": "code",
   "execution_count": 10,
   "metadata": {},
   "outputs": [
    {
     "data": {
      "text/plain": [
       "id           0.00\n",
       "url_legal    0.04\n",
       "license      0.04\n",
       "excerpt      0.00\n",
       "dtype: float64"
      ]
     },
     "execution_count": 10,
     "metadata": {},
     "output_type": "execute_result"
    }
   ],
   "source": [
    "data_2.isnull().sum()/100"
   ]
  },
  {
   "cell_type": "code",
   "execution_count": 11,
   "metadata": {},
   "outputs": [
    {
     "data": {
      "text/html": [
       "<div>\n",
       "<style scoped>\n",
       "    .dataframe tbody tr th:only-of-type {\n",
       "        vertical-align: middle;\n",
       "    }\n",
       "\n",
       "    .dataframe tbody tr th {\n",
       "        vertical-align: top;\n",
       "    }\n",
       "\n",
       "    .dataframe thead th {\n",
       "        text-align: right;\n",
       "    }\n",
       "</style>\n",
       "<table border=\"1\" class=\"dataframe\">\n",
       "  <thead>\n",
       "    <tr style=\"text-align: right;\">\n",
       "      <th></th>\n",
       "      <th>excerpt</th>\n",
       "      <th>target</th>\n",
       "    </tr>\n",
       "  </thead>\n",
       "  <tbody>\n",
       "    <tr>\n",
       "      <th>0</th>\n",
       "      <td>When the young people returned to the ballroom...</td>\n",
       "      <td>-0.340259</td>\n",
       "    </tr>\n",
       "    <tr>\n",
       "      <th>1</th>\n",
       "      <td>All through dinner time, Mrs. Fayre was somewh...</td>\n",
       "      <td>-0.315372</td>\n",
       "    </tr>\n",
       "    <tr>\n",
       "      <th>2</th>\n",
       "      <td>As Roger had predicted, the snow departed as q...</td>\n",
       "      <td>-0.580118</td>\n",
       "    </tr>\n",
       "    <tr>\n",
       "      <th>3</th>\n",
       "      <td>And outside before the palace a great garden w...</td>\n",
       "      <td>-1.054013</td>\n",
       "    </tr>\n",
       "    <tr>\n",
       "      <th>4</th>\n",
       "      <td>Once upon a time there were Three Bears who li...</td>\n",
       "      <td>0.247197</td>\n",
       "    </tr>\n",
       "  </tbody>\n",
       "</table>\n",
       "</div>"
      ],
      "text/plain": [
       "                                             excerpt    target\n",
       "0  When the young people returned to the ballroom... -0.340259\n",
       "1  All through dinner time, Mrs. Fayre was somewh... -0.315372\n",
       "2  As Roger had predicted, the snow departed as q... -0.580118\n",
       "3  And outside before the palace a great garden w... -1.054013\n",
       "4  Once upon a time there were Three Bears who li...  0.247197"
      ]
     },
     "execution_count": 11,
     "metadata": {},
     "output_type": "execute_result"
    }
   ],
   "source": [
    "data_1 = data_1.drop([\"id\",\"url_legal\",\"license\",\"standard_error\"],axis = 1)\n",
    "data_1.head()"
   ]
  },
  {
   "cell_type": "code",
   "execution_count": 12,
   "metadata": {},
   "outputs": [
    {
     "data": {
      "text/html": [
       "<div>\n",
       "<style scoped>\n",
       "    .dataframe tbody tr th:only-of-type {\n",
       "        vertical-align: middle;\n",
       "    }\n",
       "\n",
       "    .dataframe tbody tr th {\n",
       "        vertical-align: top;\n",
       "    }\n",
       "\n",
       "    .dataframe thead th {\n",
       "        text-align: right;\n",
       "    }\n",
       "</style>\n",
       "<table border=\"1\" class=\"dataframe\">\n",
       "  <thead>\n",
       "    <tr style=\"text-align: right;\">\n",
       "      <th></th>\n",
       "      <th>excerpt</th>\n",
       "    </tr>\n",
       "  </thead>\n",
       "  <tbody>\n",
       "    <tr>\n",
       "      <th>0</th>\n",
       "      <td>My hope lay in Jack's promise that he would ke...</td>\n",
       "    </tr>\n",
       "    <tr>\n",
       "      <th>1</th>\n",
       "      <td>Dotty continued to go to Mrs. Gray's every nig...</td>\n",
       "    </tr>\n",
       "    <tr>\n",
       "      <th>2</th>\n",
       "      <td>It was a bright and cheerful scene that greete...</td>\n",
       "    </tr>\n",
       "    <tr>\n",
       "      <th>3</th>\n",
       "      <td>Cell division is the process by which a parent...</td>\n",
       "    </tr>\n",
       "    <tr>\n",
       "      <th>4</th>\n",
       "      <td>Debugging is the process of finding and resolv...</td>\n",
       "    </tr>\n",
       "  </tbody>\n",
       "</table>\n",
       "</div>"
      ],
      "text/plain": [
       "                                             excerpt\n",
       "0  My hope lay in Jack's promise that he would ke...\n",
       "1  Dotty continued to go to Mrs. Gray's every nig...\n",
       "2  It was a bright and cheerful scene that greete...\n",
       "3  Cell division is the process by which a parent...\n",
       "4  Debugging is the process of finding and resolv..."
      ]
     },
     "execution_count": 12,
     "metadata": {},
     "output_type": "execute_result"
    }
   ],
   "source": [
    "data_2 = data_2.drop([\"id\",\"url_legal\",\"license\"],axis=1)\n",
    "data_2.head()"
   ]
  },
  {
   "cell_type": "code",
   "execution_count": 13,
   "metadata": {},
   "outputs": [
    {
     "data": {
      "text/plain": [
       "0       When the young people returned to the ballroom...\n",
       "1       All through dinner time, Mrs. Fayre was somewh...\n",
       "2       As Roger had predicted, the snow departed as q...\n",
       "3       And outside before the palace a great garden w...\n",
       "4       Once upon a time there were Three Bears who li...\n",
       "                              ...                        \n",
       "2829    When you think of dinosaurs and where they liv...\n",
       "2830    So what is a solid? Solids are usually hard be...\n",
       "2831    The second state of matter we will discuss is ...\n",
       "2832    Solids are shapes that you can actually touch....\n",
       "2833    Animals are made of many cells. They eat thing...\n",
       "Name: excerpt, Length: 2834, dtype: object"
      ]
     },
     "execution_count": 13,
     "metadata": {},
     "output_type": "execute_result"
    }
   ],
   "source": [
    "data_1[\"excerpt\"]"
   ]
  },
  {
   "cell_type": "code",
   "execution_count": 14,
   "metadata": {},
   "outputs": [
    {
     "data": {
      "text/plain": [
       "0    My hope lay in Jack's promise that he would ke...\n",
       "1    Dotty continued to go to Mrs. Gray's every nig...\n",
       "2    It was a bright and cheerful scene that greete...\n",
       "3    Cell division is the process by which a parent...\n",
       "4    Debugging is the process of finding and resolv...\n",
       "5    To explain transitivity, let us look first at ...\n",
       "6    Milka and John are playing in the garden. Her ...\n",
       "Name: excerpt, dtype: object"
      ]
     },
     "execution_count": 14,
     "metadata": {},
     "output_type": "execute_result"
    }
   ],
   "source": [
    "data_2[\"excerpt\"]"
   ]
  },
  {
   "cell_type": "code",
   "execution_count": 15,
   "metadata": {},
   "outputs": [],
   "source": [
    "data_1[\"excerpt\"] = data_1[\"excerpt\"].str.lower()\n",
    "data_2[\"excerpt\"] = data_2[\"excerpt\"].str.lower()"
   ]
  },
  {
   "cell_type": "code",
   "execution_count": 16,
   "metadata": {},
   "outputs": [],
   "source": [
    "import string\n",
    "punc = string.punctuation\n",
    "\n",
    "def remove_punc(x):\n",
    "    translator = str.maketrans(\" \",\" \",punc)\n",
    "    return x.translate(translator)\n",
    "\n",
    "data_1[\"excerpt\"] = data_1[\"excerpt\"].apply(lambda x:remove_punc(x))\n",
    "data_2[\"excerpt\"] = data_2[\"excerpt\"].apply(lambda x:remove_punc(x))"
   ]
  },
  {
   "cell_type": "code",
   "execution_count": 17,
   "metadata": {},
   "outputs": [],
   "source": [
    "from nltk.corpus import stopwords\n",
    "stop_words = stopwords.words('english')\n",
    "\n",
    "def remove_stopwords(text):\n",
    "    return ' '.join(word for word in text.split() if word not in stop_words)\n",
    "\n",
    "data_1[\"excerpt\"] = data_1[\"excerpt\"].apply(remove_stopwords)\n",
    "data_2[\"excerpt\"] = data_2[\"excerpt\"].apply(remove_stopwords)"
   ]
  },
  {
   "cell_type": "code",
   "execution_count": 18,
   "metadata": {},
   "outputs": [
    {
     "data": {
      "text/html": [
       "<div>\n",
       "<style scoped>\n",
       "    .dataframe tbody tr th:only-of-type {\n",
       "        vertical-align: middle;\n",
       "    }\n",
       "\n",
       "    .dataframe tbody tr th {\n",
       "        vertical-align: top;\n",
       "    }\n",
       "\n",
       "    .dataframe thead th {\n",
       "        text-align: right;\n",
       "    }\n",
       "</style>\n",
       "<table border=\"1\" class=\"dataframe\">\n",
       "  <thead>\n",
       "    <tr style=\"text-align: right;\">\n",
       "      <th></th>\n",
       "      <th>excerpt</th>\n",
       "      <th>target</th>\n",
       "    </tr>\n",
       "  </thead>\n",
       "  <tbody>\n",
       "    <tr>\n",
       "      <th>2829</th>\n",
       "      <td>think dinosaurs lived picture see hot steamy s...</td>\n",
       "      <td>1.711390</td>\n",
       "    </tr>\n",
       "    <tr>\n",
       "      <th>2830</th>\n",
       "      <td>solid solids usually hard molecules packed tog...</td>\n",
       "      <td>0.189476</td>\n",
       "    </tr>\n",
       "    <tr>\n",
       "      <th>2831</th>\n",
       "      <td>second state matter discuss liquid solids hard...</td>\n",
       "      <td>0.255209</td>\n",
       "    </tr>\n",
       "    <tr>\n",
       "      <th>2832</th>\n",
       "      <td>solids shapes actually touch three dimensions ...</td>\n",
       "      <td>-0.215279</td>\n",
       "    </tr>\n",
       "    <tr>\n",
       "      <th>2833</th>\n",
       "      <td>animals made many cells eat things digest insi...</td>\n",
       "      <td>0.300779</td>\n",
       "    </tr>\n",
       "  </tbody>\n",
       "</table>\n",
       "</div>"
      ],
      "text/plain": [
       "                                                excerpt    target\n",
       "2829  think dinosaurs lived picture see hot steamy s...  1.711390\n",
       "2830  solid solids usually hard molecules packed tog...  0.189476\n",
       "2831  second state matter discuss liquid solids hard...  0.255209\n",
       "2832  solids shapes actually touch three dimensions ... -0.215279\n",
       "2833  animals made many cells eat things digest insi...  0.300779"
      ]
     },
     "execution_count": 18,
     "metadata": {},
     "output_type": "execute_result"
    }
   ],
   "source": [
    "data_1.tail()"
   ]
  },
  {
   "cell_type": "code",
   "execution_count": 19,
   "metadata": {},
   "outputs": [
    {
     "data": {
      "text/html": [
       "<div>\n",
       "<style scoped>\n",
       "    .dataframe tbody tr th:only-of-type {\n",
       "        vertical-align: middle;\n",
       "    }\n",
       "\n",
       "    .dataframe tbody tr th {\n",
       "        vertical-align: top;\n",
       "    }\n",
       "\n",
       "    .dataframe thead th {\n",
       "        text-align: right;\n",
       "    }\n",
       "</style>\n",
       "<table border=\"1\" class=\"dataframe\">\n",
       "  <thead>\n",
       "    <tr style=\"text-align: right;\">\n",
       "      <th></th>\n",
       "      <th>excerpt</th>\n",
       "    </tr>\n",
       "  </thead>\n",
       "  <tbody>\n",
       "    <tr>\n",
       "      <th>2</th>\n",
       "      <td>bright cheerful scene greeted eyes captain ray...</td>\n",
       "    </tr>\n",
       "    <tr>\n",
       "      <th>3</th>\n",
       "      <td>cell division process parent cell divides two ...</td>\n",
       "    </tr>\n",
       "    <tr>\n",
       "      <th>4</th>\n",
       "      <td>debugging process finding resolving defects pr...</td>\n",
       "    </tr>\n",
       "    <tr>\n",
       "      <th>5</th>\n",
       "      <td>explain transitivity let us look first totally...</td>\n",
       "    </tr>\n",
       "    <tr>\n",
       "      <th>6</th>\n",
       "      <td>milka john playing garden little sister playin...</td>\n",
       "    </tr>\n",
       "  </tbody>\n",
       "</table>\n",
       "</div>"
      ],
      "text/plain": [
       "                                             excerpt\n",
       "2  bright cheerful scene greeted eyes captain ray...\n",
       "3  cell division process parent cell divides two ...\n",
       "4  debugging process finding resolving defects pr...\n",
       "5  explain transitivity let us look first totally...\n",
       "6  milka john playing garden little sister playin..."
      ]
     },
     "execution_count": 19,
     "metadata": {},
     "output_type": "execute_result"
    }
   ],
   "source": [
    "data_2.tail()"
   ]
  },
  {
   "cell_type": "code",
   "execution_count": 20,
   "metadata": {},
   "outputs": [],
   "source": [
    "import re\n",
    "\n",
    "def remove_digits(text):\n",
    "    return re.sub(\"[0-9]+\",\" \",text)\n",
    "\n",
    "data_1[\"excerpt\"] = data_1[\"excerpt\"].apply(remove_digits)\n",
    "data_2[\"excerpt\"] = data_2[\"excerpt\"].apply(remove_digits)"
   ]
  },
  {
   "cell_type": "code",
   "execution_count": 21,
   "metadata": {},
   "outputs": [],
   "source": [
    "def remove_url(text):\n",
    "    return re.sub(\"((www.[^s]+) | (https?://[^s]+))\",\" \",text)\n",
    "\n",
    "data_1[\"excerpt\"] = data_1[\"excerpt\"].apply(remove_url)\n",
    "data_2[\"excerpt\"] = data_2[\"excerpt\"].apply(remove_url)"
   ]
  },
  {
   "cell_type": "code",
   "execution_count": 22,
   "metadata": {},
   "outputs": [],
   "source": [
    "regex = r'\\b(\\w+)(?:\\W+\\1\\b)+'\n",
    "\n",
    "def clean_repeat_words(text):\n",
    "    return re.sub(regex,\" \",text)\n",
    "\n",
    "data_1[\"excerpt\"] = data_1[\"excerpt\"].apply(clean_repeat_words)\n",
    "data_2[\"excerpt\"] = data_2[\"excerpt\"].apply(clean_repeat_words)"
   ]
  },
  {
   "cell_type": "code",
   "execution_count": 23,
   "metadata": {},
   "outputs": [],
   "source": [
    "from nltk.stem import PorterStemmer\n",
    "ps = PorterStemmer()\n",
    "\n",
    "def stemming_data(data):\n",
    "  text = [ps.stem(data) for word in data]\n",
    "  return data\n",
    "\n",
    "data_1[\"excerpt\"] = data_1[\"excerpt\"].apply(lambda x: stemming_data(x))\n",
    "data_2[\"excerpt\"] = data_2[\"excerpt\"].apply(lambda x: stemming_data(x))"
   ]
  },
  {
   "cell_type": "code",
   "execution_count": 24,
   "metadata": {},
   "outputs": [],
   "source": [
    "from nltk.stem import WordNetLemmatizer\n",
    "wnl = WordNetLemmatizer()\n",
    "\n",
    "def lemmatizer_on_text(data):\n",
    "    text = [wnl.lemmatize(word) for word in data]\n",
    "    return data\n",
    "\n",
    "data_1[\"excerpt\"] = data_1[\"excerpt\"].apply(lambda x: lemmatizer_on_text(x))\n",
    "data_2[\"excerpt\"] = data_2[\"excerpt\"].apply(lambda x: lemmatizer_on_text(x))"
   ]
  },
  {
   "cell_type": "code",
   "execution_count": 25,
   "metadata": {},
   "outputs": [],
   "source": [
    "X = data_1.drop('target', axis = 1)\n",
    "y = data_1['target']"
   ]
  },
  {
   "cell_type": "code",
   "execution_count": 26,
   "metadata": {},
   "outputs": [],
   "source": [
    "from sklearn.model_selection import train_test_split\n",
    "X_train, X_test, y_train, y_test = train_test_split(X, y, test_size = 0.2, random_state = 0)"
   ]
  },
  {
   "cell_type": "code",
   "execution_count": 27,
   "metadata": {},
   "outputs": [
    {
     "data": {
      "text/plain": [
       "CountVectorizer(analyzer='word', binary=False, decode_error='strict',\n",
       "                dtype=<class 'numpy.int64'>, encoding='utf-8', input='content',\n",
       "                lowercase=True, max_df=1.0, max_features=None, min_df=1,\n",
       "                ngram_range=(1, 1), preprocessor=None, stop_words=None,\n",
       "                strip_accents=None, token_pattern='(?u)\\\\b\\\\w\\\\w+\\\\b',\n",
       "                tokenizer=None, vocabulary=None)"
      ]
     },
     "execution_count": 27,
     "metadata": {},
     "output_type": "execute_result"
    }
   ],
   "source": [
    "from sklearn.feature_extraction.text import CountVectorizer\n",
    "cv = CountVectorizer()\n",
    "cv"
   ]
  },
  {
   "cell_type": "code",
   "execution_count": 28,
   "metadata": {},
   "outputs": [
    {
     "data": {
      "text/plain": [
       "CountVectorizer(analyzer='word', binary=False, decode_error='strict',\n",
       "                dtype=<class 'numpy.int64'>, encoding='utf-8', input='content',\n",
       "                lowercase=True, max_df=1.0, max_features=None, min_df=1,\n",
       "                ngram_range=(1, 1), preprocessor=None, stop_words=None,\n",
       "                strip_accents=None, token_pattern='(?u)\\\\b\\\\w\\\\w+\\\\b',\n",
       "                tokenizer=None, vocabulary=None)"
      ]
     },
     "execution_count": 28,
     "metadata": {},
     "output_type": "execute_result"
    }
   ],
   "source": [
    "cv.fit(X_train['excerpt'].values)"
   ]
  },
  {
   "cell_type": "code",
   "execution_count": 29,
   "metadata": {},
   "outputs": [],
   "source": [
    "X_train = cv.transform(X_train['excerpt'])\n",
    "X_test = cv.transform(X_test['excerpt'])"
   ]
  },
  {
   "cell_type": "code",
   "execution_count": 30,
   "metadata": {},
   "outputs": [
    {
     "data": {
      "text/plain": [
       "LinearRegression(copy_X=True, fit_intercept=True, n_jobs=None, normalize=False)"
      ]
     },
     "execution_count": 30,
     "metadata": {},
     "output_type": "execute_result"
    }
   ],
   "source": [
    "from sklearn.linear_model import LinearRegression\n",
    "lr = LinearRegression()\n",
    "lr"
   ]
  },
  {
   "cell_type": "code",
   "execution_count": 31,
   "metadata": {},
   "outputs": [
    {
     "data": {
      "text/plain": [
       "LinearRegression(copy_X=True, fit_intercept=True, n_jobs=None, normalize=False)"
      ]
     },
     "execution_count": 31,
     "metadata": {},
     "output_type": "execute_result"
    }
   ],
   "source": [
    "lr.fit(X_train, y_train)"
   ]
  },
  {
   "cell_type": "code",
   "execution_count": 32,
   "metadata": {},
   "outputs": [
    {
     "data": {
      "text/plain": [
       "array([ 4.10669302e-01, -1.11916006e+00, -1.16969753e-01, -2.52431483e+00,\n",
       "       -5.26172460e-01, -1.36353936e+00,  1.05893022e+00, -7.50170960e-01,\n",
       "       -1.20727875e+00, -9.69001441e-01, -1.71095812e+00,  3.14047908e-01,\n",
       "       -7.20987938e-01, -8.67026149e-01, -8.10250327e-01,  5.14180927e-01,\n",
       "       -2.13184896e-01, -5.59709835e-01, -7.30123130e-01, -9.20280798e-01,\n",
       "       -5.72492665e-01, -1.74626949e+00, -7.52864823e-01, -1.22101139e+00,\n",
       "       -5.85627415e-01, -1.76132264e+00, -1.73534164e+00, -7.10104218e-01,\n",
       "       -4.94207763e-01,  1.11902244e-01, -1.36635814e+00, -1.07059098e+00,\n",
       "        1.49811836e-01, -5.46815987e-01, -7.73050756e-01, -1.04452710e+00,\n",
       "       -1.26274008e+00, -2.89829611e-01, -1.56567066e+00, -4.40662971e-01,\n",
       "       -2.42811847e+00, -1.14740513e+00, -1.40788581e+00,  1.01291942e+00,\n",
       "        3.00934089e-01, -9.31779948e-02, -3.20535190e-01, -1.59776094e+00,\n",
       "       -1.48993473e+00, -1.34880739e+00, -1.49745368e+00, -1.97858764e+00,\n",
       "       -7.48543346e-01, -1.66317065e+00, -6.17143059e-01, -1.37697334e+00,\n",
       "       -5.47191439e-01, -1.89624936e+00, -4.25069300e-01, -1.30508060e+00,\n",
       "       -6.38544136e-01, -1.81933601e-01, -1.10446280e-01, -1.83656708e+00,\n",
       "       -1.53372398e+00, -6.15781890e-01, -1.20654281e+00, -9.39895249e-01,\n",
       "       -2.46762360e-02, -1.44240587e+00,  1.24193824e-01, -3.45512763e-01,\n",
       "       -7.96487307e-01, -9.30234604e-01, -1.75595867e+00, -1.72625542e+00,\n",
       "       -1.46360721e+00, -1.70583215e+00, -8.31149994e-02, -2.23192305e+00,\n",
       "       -5.16370266e-01, -9.16094475e-01, -1.37849360e+00, -6.75060035e-01,\n",
       "       -1.70586353e+00, -1.08396559e+00, -2.28573951e+00,  8.02578633e-01,\n",
       "       -8.76081352e-01, -9.38511940e-01, -1.15652111e+00, -1.56750939e+00,\n",
       "        4.88173993e-01, -7.98696174e-01, -1.01926363e+00,  5.80577648e-03,\n",
       "       -1.66959052e+00, -8.15773340e-01, -8.33904583e-01, -1.35900858e+00,\n",
       "       -8.41545433e-01, -1.24363299e+00, -1.50825062e-01, -1.29766012e+00,\n",
       "       -2.93038812e+00, -2.88068209e+00, -1.48631597e+00, -2.18842109e+00,\n",
       "       -1.59954406e+00, -3.89525752e-01, -1.74461948e+00, -1.45750322e+00,\n",
       "       -1.77939977e+00, -8.81118810e-01, -1.40863823e+00, -1.94089342e+00,\n",
       "       -1.74453763e+00,  2.33956044e-01, -7.03429589e-01, -1.14518967e+00,\n",
       "       -2.80422708e-01, -9.19109166e-01, -2.01058456e-01, -1.59790314e+00,\n",
       "       -2.60003431e+00, -1.03911204e+00, -7.32598088e-01,  4.20438800e-01,\n",
       "       -2.18921315e+00, -2.06302206e+00, -2.16784954e+00, -1.50906948e+00,\n",
       "       -1.70118790e+00, -3.96914767e-01, -4.66589409e-01, -4.88144421e-01,\n",
       "       -6.93918900e-01, -9.74813260e-01, -1.14966411e-01, -8.89257443e-01,\n",
       "       -1.82974647e+00, -1.67550549e+00, -1.71164222e+00, -5.75341413e-01,\n",
       "       -5.96375715e-01, -2.80412333e-01, -8.31627098e-01, -1.46981963e+00,\n",
       "       -1.68871606e-01, -2.12472463e+00, -3.92396623e-01, -7.92333102e-02,\n",
       "        7.06782010e-01, -1.66876194e+00,  2.95841574e-01, -9.18743227e-01,\n",
       "       -3.37434885e+00, -4.10123659e-01,  7.34880182e-01,  3.62182620e-01,\n",
       "       -6.70426600e-01, -6.81170358e-01, -1.23307105e-02, -9.79459211e-01,\n",
       "       -1.87036502e+00,  1.91848244e-01, -1.65792139e+00,  7.58467316e-01,\n",
       "       -1.87353932e+00, -6.14991670e-01, -5.80005615e-01,  5.73846045e-01,\n",
       "       -6.22416568e-01,  3.50638203e-01, -4.75351280e-01, -1.34423266e+00,\n",
       "       -8.41928046e-01,  1.43590255e+00, -1.64752983e+00,  7.46080081e-01,\n",
       "       -8.96025569e-01, -5.20663272e-01, -1.16223001e+00, -2.19113962e+00,\n",
       "       -1.53530101e+00, -1.95707255e+00,  1.48859958e+00, -3.83479042e-01,\n",
       "       -1.26075987e+00, -1.26020056e+00, -5.67243384e-01, -9.31589612e-01,\n",
       "       -1.73276721e+00, -5.78623919e-01, -6.16482280e-01, -9.59314392e-01,\n",
       "       -1.39840006e+00, -1.20422351e+00, -4.79899588e-01, -1.34384980e+00,\n",
       "       -1.09166047e+00, -5.48109008e-01, -1.55881734e+00,  7.51918237e-01,\n",
       "       -1.14550639e+00, -2.21863708e+00, -8.23194321e-01,  2.65670922e-02,\n",
       "       -9.79257449e-01,  2.64015887e-01, -1.01203124e+00, -1.17644289e+00,\n",
       "       -1.23518165e+00, -1.97675174e+00, -2.69461065e-01,  1.02802768e-01,\n",
       "       -1.59759846e+00, -1.34260804e+00, -8.74312172e-01,  2.95051591e-02,\n",
       "       -1.98098204e+00, -5.90424448e-01,  6.05850681e-01, -1.31527153e+00,\n",
       "       -1.64451289e+00,  8.50765929e-01, -1.69547792e+00, -9.28184444e-01,\n",
       "       -1.75653604e+00, -7.51552665e-01,  4.07922472e-01, -1.55523772e+00,\n",
       "       -1.06626580e+00, -1.55491660e+00, -4.78570512e-01, -2.38354458e+00,\n",
       "       -5.27750815e-01, -5.40604710e-01, -1.09499125e+00, -2.42317444e-01,\n",
       "       -7.21296993e-01, -1.53200463e+00,  2.01866409e-02, -1.23467469e+00,\n",
       "       -9.02837150e-01,  1.46677965e-01, -1.80255250e+00, -1.42048893e+00,\n",
       "       -6.17852926e-02, -2.68843670e+00,  6.07811781e-01, -7.33668740e-01,\n",
       "       -2.82507620e+00,  1.39065644e+00, -1.81456079e+00, -6.07150311e-01,\n",
       "       -1.88449158e+00, -9.38876024e-01, -5.30904607e-01, -9.09563792e-01,\n",
       "        6.70829608e-01,  3.76224366e-01, -9.71074763e-02, -1.68699427e+00,\n",
       "       -1.25501872e+00, -8.56824095e-01, -1.68290369e+00, -1.24459184e+00,\n",
       "       -6.84467416e-01, -1.24496023e+00, -5.36319678e-02, -2.34758128e-01,\n",
       "       -1.14244281e+00, -1.79125987e+00, -8.42915720e-01, -1.80154083e+00,\n",
       "       -2.27208588e+00,  2.04854435e-03, -8.27193387e-01, -9.94776110e-01,\n",
       "       -1.03687778e+00, -3.99621892e-01, -7.28235751e-01,  2.49591543e-01,\n",
       "       -2.09425387e+00,  3.36002619e-01, -1.79467490e+00, -3.95251363e-01,\n",
       "       -6.35416942e-01, -9.96010036e-01, -1.05525529e+00, -1.40349983e+00,\n",
       "       -1.66600789e+00, -9.52548667e-01, -1.11183237e+00, -1.41995189e+00,\n",
       "       -9.39048359e-01, -1.68092090e+00, -1.34171440e+00, -1.07646603e+00,\n",
       "       -1.56484996e+00, -5.43850862e-01, -1.72288462e+00, -1.21238969e+00,\n",
       "       -3.31701596e+00,  7.75105972e-02,  4.57102737e-01, -7.37518297e-01,\n",
       "       -1.64619504e+00, -1.04351370e+00, -1.37554942e-01, -1.63848586e+00,\n",
       "        1.01723359e-01, -2.19772453e-01, -1.55244806e+00, -7.78062381e-01,\n",
       "       -1.51218624e+00, -4.61036594e-01, -2.54736522e+00, -2.31906376e+00,\n",
       "       -2.17614405e+00,  1.12812635e+00, -1.21775112e+00, -1.31345330e+00,\n",
       "       -1.78526093e+00, -1.76802562e+00, -1.01390471e+00, -2.26339777e+00,\n",
       "        2.41902861e-01, -1.73474965e+00, -2.42427477e+00, -5.40757462e-01,\n",
       "        6.85759677e-01, -9.85356557e-01, -1.21930856e+00,  4.09846785e-01,\n",
       "       -1.35897913e+00, -7.12115613e-01, -2.69880935e-01, -2.16467182e+00,\n",
       "       -5.18656036e-01, -2.13932217e-01, -5.09428651e-01, -2.15912920e+00,\n",
       "       -1.46541389e+00, -3.92705151e-01, -2.40863670e+00,  3.11645919e-01,\n",
       "       -1.13321604e+00, -6.87128885e-01, -5.53648049e-01, -1.85075960e+00,\n",
       "       -1.80733671e+00, -1.07340860e+00, -1.64618924e+00, -1.42378765e+00,\n",
       "       -4.47810614e-01,  7.69356882e-01, -8.85045262e-01, -5.55783533e-03,\n",
       "       -7.37508440e-01, -1.40646274e+00, -3.69362097e-02, -4.23487645e-01,\n",
       "       -5.92614505e-01,  8.11976050e-01, -3.39339528e-01,  1.00345645e+00,\n",
       "       -5.24133651e-01, -1.45422360e+00, -1.86366371e+00, -7.23096284e-01,\n",
       "       -7.20755110e-01, -8.71486513e-01, -1.07832920e+00, -8.22142287e-01,\n",
       "        6.67813783e-01, -1.94136694e+00, -2.23708352e-01, -4.44225617e-01,\n",
       "       -1.87312145e+00, -9.12602008e-01, -1.85367620e+00,  8.70168383e-02,\n",
       "       -1.04894551e+00, -5.36274921e-01,  1.01019502e+00, -1.09684940e+00,\n",
       "       -2.25616833e-01, -1.43408476e-01, -4.23579398e-01,  8.41241905e-01,\n",
       "       -1.24054260e+00, -2.20335386e+00, -1.08694891e+00, -1.38560372e+00,\n",
       "       -2.66763786e+00, -2.02173302e+00, -8.58435458e-01, -1.17813452e+00,\n",
       "       -1.41651801e+00, -7.97199950e-01, -1.60921704e+00, -1.91146148e-01,\n",
       "       -1.08812273e+00, -2.20120629e+00, -1.55672197e+00, -1.19885357e+00,\n",
       "       -1.39831890e+00,  1.04818400e-01,  2.92747517e-01, -6.70894106e-01,\n",
       "        5.33275622e-01, -1.79809948e+00, -1.57904137e+00, -2.93365895e-01,\n",
       "       -1.05308112e+00, -1.66206020e+00, -1.14285090e+00, -6.84799054e-01,\n",
       "       -1.11452694e+00, -5.18614537e-02, -3.41177004e-01, -9.61836224e-01,\n",
       "       -1.59467359e+00, -7.96757403e-01, -6.80547494e-01, -5.71794763e-01,\n",
       "        4.63745031e-01, -1.04444732e+00, -1.89258011e+00, -3.16696717e-02,\n",
       "       -2.15237062e+00, -1.80290028e+00,  1.41114099e-01, -1.54205336e+00,\n",
       "        1.68887387e+00, -1.47971460e+00, -6.25156645e-01, -6.62485020e-01,\n",
       "       -1.34589261e+00, -1.24342507e+00, -2.09387764e+00, -1.36116033e+00,\n",
       "       -1.97231241e+00, -4.89166669e-01, -5.90923143e-01, -9.75721927e-01,\n",
       "       -8.98438693e-01, -1.19083388e+00, -1.06849873e+00, -1.13679431e+00,\n",
       "       -1.72897202e+00, -5.36800770e-01, -1.01093695e+00, -1.95398137e+00,\n",
       "        9.08365095e-01, -1.38550024e+00, -1.44080733e+00, -6.63322283e-01,\n",
       "       -1.29167198e+00, -1.12647679e+00, -1.12073009e+00, -1.29847805e+00,\n",
       "       -1.58408475e+00, -1.26011295e+00, -8.96494219e-01, -1.23208983e+00,\n",
       "       -3.91468549e-03,  3.87475432e-04, -1.56923941e+00,  2.48342989e-01,\n",
       "       -1.41266827e+00,  9.53467062e-01, -1.63917689e+00, -9.30429249e-01,\n",
       "        5.03319242e-01, -3.72824556e-01, -6.46272323e-01, -7.09791125e-01,\n",
       "       -1.34103062e+00, -1.32663605e+00, -1.06115993e+00,  7.76788389e-01,\n",
       "       -1.10885737e+00, -1.25284921e+00, -1.72690678e+00, -1.37733014e+00,\n",
       "        3.97833985e-01, -5.51037410e-01, -6.31184693e-01, -1.49768802e-01,\n",
       "       -7.25507320e-01, -8.48091622e-01, -1.03456312e+00, -1.15137112e+00,\n",
       "       -1.53578934e+00,  9.16373797e-02, -2.08698726e+00, -2.73991428e-01,\n",
       "        5.61383786e-01, -1.25277520e+00,  7.12976743e-02, -8.32639388e-02,\n",
       "        1.47919186e-01, -3.93201427e-01, -9.18249929e-01,  3.08631275e-01,\n",
       "       -7.32076601e-01, -2.12159219e+00,  9.37207423e-01, -1.50039272e+00,\n",
       "       -1.51253745e+00,  6.23350010e-02, -2.03389583e+00, -2.34457437e-01,\n",
       "       -1.13172065e+00, -1.02487502e-01, -9.88586832e-01, -1.58995185e+00,\n",
       "        6.11890240e-01, -5.01513213e-01,  1.19741471e+00, -7.94985516e-01,\n",
       "       -1.66568766e+00, -1.39326294e+00, -1.91390950e-01,  1.15494209e+00,\n",
       "       -1.29843570e-01, -2.08560874e+00, -9.89749820e-01, -5.80241136e-01,\n",
       "       -7.71568246e-01, -9.30014772e-01, -8.93018097e-02, -1.56873956e+00,\n",
       "       -1.19988627e-01, -4.38234612e-01, -2.09680371e-01, -1.37206501e+00,\n",
       "       -1.19573922e-01, -1.00705553e+00, -1.15418817e+00,  8.51898414e-02,\n",
       "       -2.95375481e+00, -2.34765763e+00, -2.03049825e+00, -1.18147675e+00,\n",
       "       -3.19316375e-01, -1.78304160e+00, -5.43732541e-01, -7.74394370e-01,\n",
       "       -7.77145524e-01, -2.72657255e+00, -1.98409767e+00, -2.57005325e-01,\n",
       "        6.61212633e-01, -8.50380666e-02,  2.10976322e-01, -4.52031292e-01,\n",
       "       -7.98077707e-01,  5.56987642e-01, -9.57118498e-01, -8.82003381e-01,\n",
       "       -2.29616253e+00, -1.26189404e+00, -1.50525253e+00])"
      ]
     },
     "execution_count": 32,
     "metadata": {},
     "output_type": "execute_result"
    }
   ],
   "source": [
    "y_pred = lr.predict(X_test)\n",
    "y_pred"
   ]
  },
  {
   "cell_type": "code",
   "execution_count": 33,
   "metadata": {},
   "outputs": [
    {
     "name": "stdout",
     "output_type": "stream",
     "text": [
      "RMSE: 0.815735352502365\n"
     ]
    }
   ],
   "source": [
    "from sklearn.metrics import mean_squared_error\n",
    "rmse = np.sqrt(mean_squared_error(y_test, y_pred))\n",
    "\n",
    "print(\"RMSE:\", rmse)"
   ]
  },
  {
   "cell_type": "code",
   "execution_count": 34,
   "metadata": {},
   "outputs": [],
   "source": [
    "#test_data\n",
    "X_test_cv = cv.transform(data_2['excerpt'])"
   ]
  },
  {
   "cell_type": "code",
   "execution_count": 35,
   "metadata": {},
   "outputs": [
    {
     "data": {
      "text/plain": [
       "array([-1.63789834, -0.02290583, -0.34503597, -1.48109537, -1.795555  ,\n",
       "       -0.72504585, -0.70696829])"
      ]
     },
     "execution_count": 35,
     "metadata": {},
     "output_type": "execute_result"
    }
   ],
   "source": [
    "y_test_pred = lr.predict(X_test_cv)\n",
    "y_test_pred"
   ]
  },
  {
   "cell_type": "code",
   "execution_count": null,
   "metadata": {},
   "outputs": [],
   "source": []
  },
  {
   "cell_type": "code",
   "execution_count": null,
   "metadata": {},
   "outputs": [],
   "source": []
  }
 ],
 "metadata": {
  "kernelspec": {
   "display_name": "Python 3",
   "language": "python",
   "name": "python3"
  },
  "language_info": {
   "codemirror_mode": {
    "name": "ipython",
    "version": 3
   },
   "file_extension": ".py",
   "mimetype": "text/x-python",
   "name": "python",
   "nbconvert_exporter": "python",
   "pygments_lexer": "ipython3",
   "version": "3.7.6"
  }
 },
 "nbformat": 4,
 "nbformat_minor": 4
}
