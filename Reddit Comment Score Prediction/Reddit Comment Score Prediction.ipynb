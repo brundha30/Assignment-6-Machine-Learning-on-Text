{
 "cells": [
  {
   "cell_type": "code",
   "execution_count": 1,
   "metadata": {},
   "outputs": [],
   "source": [
    "import pandas as pd\n",
    "import numpy as np\n",
    "import matplotlib.pyplot as plt\n",
    "import seaborn as sns\n",
    "import warnings \n",
    "warnings.filterwarnings(\"ignore\")"
   ]
  },
  {
   "cell_type": "code",
   "execution_count": 2,
   "metadata": {},
   "outputs": [
    {
     "data": {
      "text/html": [
       "<div>\n",
       "<style scoped>\n",
       "    .dataframe tbody tr th:only-of-type {\n",
       "        vertical-align: middle;\n",
       "    }\n",
       "\n",
       "    .dataframe tbody tr th {\n",
       "        vertical-align: top;\n",
       "    }\n",
       "\n",
       "    .dataframe thead th {\n",
       "        text-align: right;\n",
       "    }\n",
       "</style>\n",
       "<table border=\"1\" class=\"dataframe\">\n",
       "  <thead>\n",
       "    <tr style=\"text-align: right;\">\n",
       "      <th></th>\n",
       "      <th>text</th>\n",
       "      <th>author</th>\n",
       "      <th>controversiality</th>\n",
       "      <th>parent_text</th>\n",
       "      <th>parent_score</th>\n",
       "      <th>parent_votes</th>\n",
       "      <th>parent_author</th>\n",
       "      <th>parent_controversiality</th>\n",
       "      <th>Score</th>\n",
       "    </tr>\n",
       "  </thead>\n",
       "  <tbody>\n",
       "    <tr>\n",
       "      <th>0</th>\n",
       "      <td>i must be retarded i thought it meant con lawl...</td>\n",
       "      <td>['calantus']</td>\n",
       "      <td>0</td>\n",
       "      <td>It's quite unfair to call Hillary Clinton a \"c...</td>\n",
       "      <td>245</td>\n",
       "      <td>245</td>\n",
       "      <td>Whisper</td>\n",
       "      <td>0</td>\n",
       "      <td>-8</td>\n",
       "    </tr>\n",
       "    <tr>\n",
       "      <th>1</th>\n",
       "      <td>DOWNMODDED FOR IRRELEVANCE? ISN'T THAT HOW THI...</td>\n",
       "      <td>['Shadowrose']</td>\n",
       "      <td>0</td>\n",
       "      <td>upmodded for awesome kindness</td>\n",
       "      <td>32</td>\n",
       "      <td>32</td>\n",
       "      <td>b3mus3d</td>\n",
       "      <td>0</td>\n",
       "      <td>-16</td>\n",
       "    </tr>\n",
       "    <tr>\n",
       "      <th>2</th>\n",
       "      <td>THAT WAS SUPPOSED TO MEAN \" BY A PLACE WHERE P...</td>\n",
       "      <td>['NExusRush']</td>\n",
       "      <td>0</td>\n",
       "      <td>What the hell does \"because its by a golf cour...</td>\n",
       "      <td>12</td>\n",
       "      <td>12</td>\n",
       "      <td>mr_jellyneck</td>\n",
       "      <td>0</td>\n",
       "      <td>-7</td>\n",
       "    </tr>\n",
       "    <tr>\n",
       "      <th>3</th>\n",
       "      <td>I THOUGHT EVERYONE DID; ITS FUCKING DELICIOUS :\\</td>\n",
       "      <td>['R0N_SWANS0N']</td>\n",
       "      <td>0</td>\n",
       "      <td>NICE TRY JENNIFER!  I KNOW IT'S YOU AND I KNOW...</td>\n",
       "      <td>117</td>\n",
       "      <td>117</td>\n",
       "      <td>ometzo</td>\n",
       "      <td>0</td>\n",
       "      <td>67</td>\n",
       "    </tr>\n",
       "    <tr>\n",
       "      <th>4</th>\n",
       "      <td>Great work, Zhesbe! I'd give you a raise but y...</td>\n",
       "      <td>['reddums']</td>\n",
       "      <td>0</td>\n",
       "      <td>\"HEY BOSS COME LOOK AT WHAT I DID!\"</td>\n",
       "      <td>1933</td>\n",
       "      <td>1933</td>\n",
       "      <td>Zhesbe</td>\n",
       "      <td>0</td>\n",
       "      <td>1348</td>\n",
       "    </tr>\n",
       "  </tbody>\n",
       "</table>\n",
       "</div>"
      ],
      "text/plain": [
       "                                                text           author  \\\n",
       "0  i must be retarded i thought it meant con lawl...     ['calantus']   \n",
       "1  DOWNMODDED FOR IRRELEVANCE? ISN'T THAT HOW THI...   ['Shadowrose']   \n",
       "2  THAT WAS SUPPOSED TO MEAN \" BY A PLACE WHERE P...    ['NExusRush']   \n",
       "3   I THOUGHT EVERYONE DID; ITS FUCKING DELICIOUS :\\  ['R0N_SWANS0N']   \n",
       "4  Great work, Zhesbe! I'd give you a raise but y...      ['reddums']   \n",
       "\n",
       "   controversiality                                        parent_text  \\\n",
       "0                 0  It's quite unfair to call Hillary Clinton a \"c...   \n",
       "1                 0                      upmodded for awesome kindness   \n",
       "2                 0  What the hell does \"because its by a golf cour...   \n",
       "3                 0  NICE TRY JENNIFER!  I KNOW IT'S YOU AND I KNOW...   \n",
       "4                 0               \"HEY BOSS COME LOOK AT WHAT I DID!\"    \n",
       "\n",
       "   parent_score  parent_votes parent_author  parent_controversiality  Score  \n",
       "0           245           245       Whisper                        0     -8  \n",
       "1            32            32       b3mus3d                        0    -16  \n",
       "2            12            12  mr_jellyneck                        0     -7  \n",
       "3           117           117        ometzo                        0     67  \n",
       "4          1933          1933        Zhesbe                        0   1348  "
      ]
     },
     "execution_count": 2,
     "metadata": {},
     "output_type": "execute_result"
    }
   ],
   "source": [
    "df=pd.read_csv(\"comments.csv\")\n",
    "df.head()"
   ]
  },
  {
   "cell_type": "code",
   "execution_count": 3,
   "metadata": {},
   "outputs": [
    {
     "data": {
      "text/plain": [
       "(4999, 9)"
      ]
     },
     "execution_count": 3,
     "metadata": {},
     "output_type": "execute_result"
    }
   ],
   "source": [
    "df.shape"
   ]
  },
  {
   "cell_type": "code",
   "execution_count": 4,
   "metadata": {},
   "outputs": [
    {
     "data": {
      "text/html": [
       "<div>\n",
       "<style scoped>\n",
       "    .dataframe tbody tr th:only-of-type {\n",
       "        vertical-align: middle;\n",
       "    }\n",
       "\n",
       "    .dataframe tbody tr th {\n",
       "        vertical-align: top;\n",
       "    }\n",
       "\n",
       "    .dataframe thead th {\n",
       "        text-align: right;\n",
       "    }\n",
       "</style>\n",
       "<table border=\"1\" class=\"dataframe\">\n",
       "  <thead>\n",
       "    <tr style=\"text-align: right;\">\n",
       "      <th></th>\n",
       "      <th>controversiality</th>\n",
       "      <th>parent_score</th>\n",
       "      <th>parent_votes</th>\n",
       "      <th>parent_controversiality</th>\n",
       "      <th>Score</th>\n",
       "    </tr>\n",
       "  </thead>\n",
       "  <tbody>\n",
       "    <tr>\n",
       "      <th>count</th>\n",
       "      <td>4999.000000</td>\n",
       "      <td>4999.000000</td>\n",
       "      <td>4999.000000</td>\n",
       "      <td>4999.000000</td>\n",
       "      <td>4999.000000</td>\n",
       "    </tr>\n",
       "    <tr>\n",
       "      <th>mean</th>\n",
       "      <td>0.000600</td>\n",
       "      <td>216.714943</td>\n",
       "      <td>216.714943</td>\n",
       "      <td>0.001200</td>\n",
       "      <td>89.810962</td>\n",
       "    </tr>\n",
       "    <tr>\n",
       "      <th>std</th>\n",
       "      <td>0.024492</td>\n",
       "      <td>449.422467</td>\n",
       "      <td>449.422467</td>\n",
       "      <td>0.034627</td>\n",
       "      <td>200.739917</td>\n",
       "    </tr>\n",
       "    <tr>\n",
       "      <th>min</th>\n",
       "      <td>0.000000</td>\n",
       "      <td>-8907.000000</td>\n",
       "      <td>-8907.000000</td>\n",
       "      <td>0.000000</td>\n",
       "      <td>-1658.000000</td>\n",
       "    </tr>\n",
       "    <tr>\n",
       "      <th>25%</th>\n",
       "      <td>0.000000</td>\n",
       "      <td>13.000000</td>\n",
       "      <td>13.000000</td>\n",
       "      <td>0.000000</td>\n",
       "      <td>-10.000000</td>\n",
       "    </tr>\n",
       "    <tr>\n",
       "      <th>50%</th>\n",
       "      <td>0.000000</td>\n",
       "      <td>67.000000</td>\n",
       "      <td>67.000000</td>\n",
       "      <td>0.000000</td>\n",
       "      <td>66.000000</td>\n",
       "    </tr>\n",
       "    <tr>\n",
       "      <th>75%</th>\n",
       "      <td>0.000000</td>\n",
       "      <td>229.000000</td>\n",
       "      <td>229.000000</td>\n",
       "      <td>0.000000</td>\n",
       "      <td>115.500000</td>\n",
       "    </tr>\n",
       "    <tr>\n",
       "      <th>max</th>\n",
       "      <td>1.000000</td>\n",
       "      <td>5619.000000</td>\n",
       "      <td>5619.000000</td>\n",
       "      <td>1.000000</td>\n",
       "      <td>3133.000000</td>\n",
       "    </tr>\n",
       "  </tbody>\n",
       "</table>\n",
       "</div>"
      ],
      "text/plain": [
       "       controversiality  parent_score  parent_votes  parent_controversiality  \\\n",
       "count       4999.000000   4999.000000   4999.000000              4999.000000   \n",
       "mean           0.000600    216.714943    216.714943                 0.001200   \n",
       "std            0.024492    449.422467    449.422467                 0.034627   \n",
       "min            0.000000  -8907.000000  -8907.000000                 0.000000   \n",
       "25%            0.000000     13.000000     13.000000                 0.000000   \n",
       "50%            0.000000     67.000000     67.000000                 0.000000   \n",
       "75%            0.000000    229.000000    229.000000                 0.000000   \n",
       "max            1.000000   5619.000000   5619.000000                 1.000000   \n",
       "\n",
       "             Score  \n",
       "count  4999.000000  \n",
       "mean     89.810962  \n",
       "std     200.739917  \n",
       "min   -1658.000000  \n",
       "25%     -10.000000  \n",
       "50%      66.000000  \n",
       "75%     115.500000  \n",
       "max    3133.000000  "
      ]
     },
     "execution_count": 4,
     "metadata": {},
     "output_type": "execute_result"
    }
   ],
   "source": [
    "df.describe()"
   ]
  },
  {
   "cell_type": "code",
   "execution_count": 5,
   "metadata": {},
   "outputs": [
    {
     "name": "stdout",
     "output_type": "stream",
     "text": [
      "<class 'pandas.core.frame.DataFrame'>\n",
      "RangeIndex: 4999 entries, 0 to 4998\n",
      "Data columns (total 9 columns):\n",
      " #   Column                   Non-Null Count  Dtype \n",
      "---  ------                   --------------  ----- \n",
      " 0   text                     4999 non-null   object\n",
      " 1   author                   4999 non-null   object\n",
      " 2   controversiality         4999 non-null   int64 \n",
      " 3   parent_text              4999 non-null   object\n",
      " 4   parent_score             4999 non-null   int64 \n",
      " 5   parent_votes             4999 non-null   int64 \n",
      " 6   parent_author            4999 non-null   object\n",
      " 7   parent_controversiality  4999 non-null   int64 \n",
      " 8   Score                    4999 non-null   int64 \n",
      "dtypes: int64(5), object(4)\n",
      "memory usage: 351.6+ KB\n"
     ]
    }
   ],
   "source": [
    "df.info()"
   ]
  },
  {
   "cell_type": "code",
   "execution_count": 6,
   "metadata": {},
   "outputs": [
    {
     "data": {
      "text/html": [
       "<div>\n",
       "<style scoped>\n",
       "    .dataframe tbody tr th:only-of-type {\n",
       "        vertical-align: middle;\n",
       "    }\n",
       "\n",
       "    .dataframe tbody tr th {\n",
       "        vertical-align: top;\n",
       "    }\n",
       "\n",
       "    .dataframe thead th {\n",
       "        text-align: right;\n",
       "    }\n",
       "</style>\n",
       "<table border=\"1\" class=\"dataframe\">\n",
       "  <thead>\n",
       "    <tr style=\"text-align: right;\">\n",
       "      <th></th>\n",
       "      <th>text</th>\n",
       "      <th>Score</th>\n",
       "    </tr>\n",
       "  </thead>\n",
       "  <tbody>\n",
       "    <tr>\n",
       "      <th>0</th>\n",
       "      <td>i must be retarded i thought it meant con lawl...</td>\n",
       "      <td>-8</td>\n",
       "    </tr>\n",
       "    <tr>\n",
       "      <th>1</th>\n",
       "      <td>DOWNMODDED FOR IRRELEVANCE? ISN'T THAT HOW THI...</td>\n",
       "      <td>-16</td>\n",
       "    </tr>\n",
       "    <tr>\n",
       "      <th>2</th>\n",
       "      <td>THAT WAS SUPPOSED TO MEAN \" BY A PLACE WHERE P...</td>\n",
       "      <td>-7</td>\n",
       "    </tr>\n",
       "    <tr>\n",
       "      <th>3</th>\n",
       "      <td>I THOUGHT EVERYONE DID; ITS FUCKING DELICIOUS :\\</td>\n",
       "      <td>67</td>\n",
       "    </tr>\n",
       "    <tr>\n",
       "      <th>4</th>\n",
       "      <td>Great work, Zhesbe! I'd give you a raise but y...</td>\n",
       "      <td>1348</td>\n",
       "    </tr>\n",
       "  </tbody>\n",
       "</table>\n",
       "</div>"
      ],
      "text/plain": [
       "                                                text  Score\n",
       "0  i must be retarded i thought it meant con lawl...     -8\n",
       "1  DOWNMODDED FOR IRRELEVANCE? ISN'T THAT HOW THI...    -16\n",
       "2  THAT WAS SUPPOSED TO MEAN \" BY A PLACE WHERE P...     -7\n",
       "3   I THOUGHT EVERYONE DID; ITS FUCKING DELICIOUS :\\     67\n",
       "4  Great work, Zhesbe! I'd give you a raise but y...   1348"
      ]
     },
     "execution_count": 6,
     "metadata": {},
     "output_type": "execute_result"
    }
   ],
   "source": [
    "df = df.drop([\"author\",\"controversiality\",\"parent_text\",\"parent_score\",\"parent_votes\",\"parent_author\",\"parent_controversiality\"],axis=1)\n",
    "df.head()"
   ]
  },
  {
   "cell_type": "code",
   "execution_count": 7,
   "metadata": {},
   "outputs": [
    {
     "data": {
      "text/plain": [
       "text     0\n",
       "Score    0\n",
       "dtype: int64"
      ]
     },
     "execution_count": 7,
     "metadata": {},
     "output_type": "execute_result"
    }
   ],
   "source": [
    "df.isnull().sum()"
   ]
  },
  {
   "cell_type": "code",
   "execution_count": 8,
   "metadata": {},
   "outputs": [
    {
     "data": {
      "text/plain": [
       "0       i must be retarded i thought it meant con lawl...\n",
       "1       DOWNMODDED FOR IRRELEVANCE? ISN'T THAT HOW THI...\n",
       "2       THAT WAS SUPPOSED TO MEAN \" BY A PLACE WHERE P...\n",
       "3        I THOUGHT EVERYONE DID; ITS FUCKING DELICIOUS :\\\n",
       "4       Great work, Zhesbe! I'd give you a raise but y...\n",
       "                              ...                        \n",
       "4994    Dying words of my father: \"Son, one day a man ...\n",
       "4995    CATERING TO EVERYONE AND THEIR IMPOSSIBLE SIMU...\n",
       "4996                            RABBLERABBLERABBLERABBLE!\n",
       "4997    LITTLE KNOWN FACT, \"VIOLA\" IS NOT ONLY A FRENC...\n",
       "4998    I don't think it is, but to each their own! It...\n",
       "Name: text, Length: 4999, dtype: object"
      ]
     },
     "execution_count": 8,
     "metadata": {},
     "output_type": "execute_result"
    }
   ],
   "source": [
    "df[\"text\"]"
   ]
  },
  {
   "cell_type": "code",
   "execution_count": 9,
   "metadata": {},
   "outputs": [
    {
     "data": {
      "text/plain": [
       "0       i must be retarded i thought it meant con lawl...\n",
       "1       downmodded for irrelevance? isn't that how thi...\n",
       "2       that was supposed to mean \" by a place where p...\n",
       "3        i thought everyone did; its fucking delicious :\\\n",
       "4       great work, zhesbe! i'd give you a raise but y...\n",
       "                              ...                        \n",
       "4994    dying words of my father: \"son, one day a man ...\n",
       "4995    catering to everyone and their impossible simu...\n",
       "4996                            rabblerabblerabblerabble!\n",
       "4997    little known fact, \"viola\" is not only a frenc...\n",
       "4998    i don't think it is, but to each their own! it...\n",
       "Name: text, Length: 4999, dtype: object"
      ]
     },
     "execution_count": 9,
     "metadata": {},
     "output_type": "execute_result"
    }
   ],
   "source": [
    "df[\"text\"] = df[\"text\"].str.lower()\n",
    "df[\"text\"]"
   ]
  },
  {
   "cell_type": "code",
   "execution_count": 10,
   "metadata": {},
   "outputs": [
    {
     "data": {
      "text/plain": [
       "'!\"#$%&\\'()*+,-./:;<=>?@[\\\\]^_`{|}~'"
      ]
     },
     "execution_count": 10,
     "metadata": {},
     "output_type": "execute_result"
    }
   ],
   "source": [
    "import string\n",
    "punc = string.punctuation\n",
    "punc"
   ]
  },
  {
   "cell_type": "code",
   "execution_count": 11,
   "metadata": {},
   "outputs": [
    {
     "data": {
      "text/plain": [
       "0       i must be retarded i thought it meant con lawl...\n",
       "1       downmodded for irrelevance isnt that how this ...\n",
       "2       that was supposed to mean  by a place where pe...\n",
       "3           i thought everyone did its fucking delicious \n",
       "4       great work zhesbe id give you a raise but you ...\n",
       "                              ...                        \n",
       "4994    dying words of my father son one day a man wil...\n",
       "4995    catering to everyone and their impossible simu...\n",
       "4996                             rabblerabblerabblerabble\n",
       "4997    little known fact viola is not only a french w...\n",
       "4998    i dont think it is but to each their own it ju...\n",
       "Name: text, Length: 4999, dtype: object"
      ]
     },
     "execution_count": 11,
     "metadata": {},
     "output_type": "execute_result"
    }
   ],
   "source": [
    "def remove_punc(x):\n",
    "    translator = str.maketrans(\" \",\" \",punc)\n",
    "    return x.translate(translator)\n",
    "\n",
    "df[\"text\"] = df[\"text\"].apply(lambda x:remove_punc(x))\n",
    "df[\"text\"]"
   ]
  },
  {
   "cell_type": "code",
   "execution_count": 12,
   "metadata": {},
   "outputs": [
    {
     "name": "stdout",
     "output_type": "stream",
     "text": [
      "['i', 'me', 'my', 'myself', 'we', 'our', 'ours', 'ourselves', 'you', \"you're\", \"you've\", \"you'll\", \"you'd\", 'your', 'yours', 'yourself', 'yourselves', 'he', 'him', 'his', 'himself', 'she', \"she's\", 'her', 'hers', 'herself', 'it', \"it's\", 'its', 'itself', 'they', 'them', 'their', 'theirs', 'themselves', 'what', 'which', 'who', 'whom', 'this', 'that', \"that'll\", 'these', 'those', 'am', 'is', 'are', 'was', 'were', 'be', 'been', 'being', 'have', 'has', 'had', 'having', 'do', 'does', 'did', 'doing', 'a', 'an', 'the', 'and', 'but', 'if', 'or', 'because', 'as', 'until', 'while', 'of', 'at', 'by', 'for', 'with', 'about', 'against', 'between', 'into', 'through', 'during', 'before', 'after', 'above', 'below', 'to', 'from', 'up', 'down', 'in', 'out', 'on', 'off', 'over', 'under', 'again', 'further', 'then', 'once', 'here', 'there', 'when', 'where', 'why', 'how', 'all', 'any', 'both', 'each', 'few', 'more', 'most', 'other', 'some', 'such', 'no', 'nor', 'not', 'only', 'own', 'same', 'so', 'than', 'too', 'very', 's', 't', 'can', 'will', 'just', 'don', \"don't\", 'should', \"should've\", 'now', 'd', 'll', 'm', 'o', 're', 've', 'y', 'ain', 'aren', \"aren't\", 'couldn', \"couldn't\", 'didn', \"didn't\", 'doesn', \"doesn't\", 'hadn', \"hadn't\", 'hasn', \"hasn't\", 'haven', \"haven't\", 'isn', \"isn't\", 'ma', 'mightn', \"mightn't\", 'mustn', \"mustn't\", 'needn', \"needn't\", 'shan', \"shan't\", 'shouldn', \"shouldn't\", 'wasn', \"wasn't\", 'weren', \"weren't\", 'won', \"won't\", 'wouldn', \"wouldn't\"]\n"
     ]
    }
   ],
   "source": [
    "from nltk.corpus import stopwords\n",
    "stop_words = stopwords.words('english')\n",
    "print(stop_words)"
   ]
  },
  {
   "cell_type": "code",
   "execution_count": 13,
   "metadata": {},
   "outputs": [
    {
     "data": {
      "text/plain": [
       "0    must retarded thought meant con lawl oh well work\n",
       "1                    downmodded irrelevance isnt works\n",
       "2    supposed mean place people undoubtedly snake b...\n",
       "3                   thought everyone fucking delicious\n",
       "4         great work zhesbe id give raise seem handled\n",
       "Name: text, dtype: object"
      ]
     },
     "execution_count": 13,
     "metadata": {},
     "output_type": "execute_result"
    }
   ],
   "source": [
    "def remove_stopwords(text):\n",
    "    return ' '.join(word for word in text.split() if word not in stop_words)\n",
    "\n",
    "df[\"text\"] = df[\"text\"].apply(remove_stopwords)\n",
    "df[\"text\"].head()"
   ]
  },
  {
   "cell_type": "code",
   "execution_count": 14,
   "metadata": {},
   "outputs": [
    {
     "data": {
      "text/html": [
       "<div>\n",
       "<style scoped>\n",
       "    .dataframe tbody tr th:only-of-type {\n",
       "        vertical-align: middle;\n",
       "    }\n",
       "\n",
       "    .dataframe tbody tr th {\n",
       "        vertical-align: top;\n",
       "    }\n",
       "\n",
       "    .dataframe thead th {\n",
       "        text-align: right;\n",
       "    }\n",
       "</style>\n",
       "<table border=\"1\" class=\"dataframe\">\n",
       "  <thead>\n",
       "    <tr style=\"text-align: right;\">\n",
       "      <th></th>\n",
       "      <th>text</th>\n",
       "      <th>Score</th>\n",
       "    </tr>\n",
       "  </thead>\n",
       "  <tbody>\n",
       "    <tr>\n",
       "      <th>0</th>\n",
       "      <td>must retarded thought meant con lawl oh well work</td>\n",
       "      <td>-8</td>\n",
       "    </tr>\n",
       "    <tr>\n",
       "      <th>1</th>\n",
       "      <td>downmodded irrelevance isnt works</td>\n",
       "      <td>-16</td>\n",
       "    </tr>\n",
       "    <tr>\n",
       "      <th>2</th>\n",
       "      <td>supposed mean place people undoubtedly snake b...</td>\n",
       "      <td>-7</td>\n",
       "    </tr>\n",
       "    <tr>\n",
       "      <th>3</th>\n",
       "      <td>thought everyone fucking delicious</td>\n",
       "      <td>67</td>\n",
       "    </tr>\n",
       "    <tr>\n",
       "      <th>4</th>\n",
       "      <td>great work zhesbe id give raise seem handled</td>\n",
       "      <td>1348</td>\n",
       "    </tr>\n",
       "  </tbody>\n",
       "</table>\n",
       "</div>"
      ],
      "text/plain": [
       "                                                text  Score\n",
       "0  must retarded thought meant con lawl oh well work     -8\n",
       "1                  downmodded irrelevance isnt works    -16\n",
       "2  supposed mean place people undoubtedly snake b...     -7\n",
       "3                 thought everyone fucking delicious     67\n",
       "4       great work zhesbe id give raise seem handled   1348"
      ]
     },
     "execution_count": 14,
     "metadata": {},
     "output_type": "execute_result"
    }
   ],
   "source": [
    "df.head()"
   ]
  },
  {
   "cell_type": "code",
   "execution_count": 15,
   "metadata": {},
   "outputs": [
    {
     "data": {
      "text/html": [
       "<div>\n",
       "<style scoped>\n",
       "    .dataframe tbody tr th:only-of-type {\n",
       "        vertical-align: middle;\n",
       "    }\n",
       "\n",
       "    .dataframe tbody tr th {\n",
       "        vertical-align: top;\n",
       "    }\n",
       "\n",
       "    .dataframe thead th {\n",
       "        text-align: right;\n",
       "    }\n",
       "</style>\n",
       "<table border=\"1\" class=\"dataframe\">\n",
       "  <thead>\n",
       "    <tr style=\"text-align: right;\">\n",
       "      <th></th>\n",
       "      <th>text</th>\n",
       "      <th>Score</th>\n",
       "    </tr>\n",
       "  </thead>\n",
       "  <tbody>\n",
       "    <tr>\n",
       "      <th>4994</th>\n",
       "      <td>dying words father son one day man approach se...</td>\n",
       "      <td>234</td>\n",
       "    </tr>\n",
       "    <tr>\n",
       "      <th>4995</th>\n",
       "      <td>catering everyone impossible simultaneous need...</td>\n",
       "      <td>107</td>\n",
       "    </tr>\n",
       "    <tr>\n",
       "      <th>4996</th>\n",
       "      <td>rabblerabblerabblerabble</td>\n",
       "      <td>193</td>\n",
       "    </tr>\n",
       "    <tr>\n",
       "      <th>4997</th>\n",
       "      <td>little known fact viola french word stringed i...</td>\n",
       "      <td>-8</td>\n",
       "    </tr>\n",
       "    <tr>\n",
       "      <th>4998</th>\n",
       "      <td>dont think aint christian</td>\n",
       "      <td>-8</td>\n",
       "    </tr>\n",
       "  </tbody>\n",
       "</table>\n",
       "</div>"
      ],
      "text/plain": [
       "                                                   text  Score\n",
       "4994  dying words father son one day man approach se...    234\n",
       "4995  catering everyone impossible simultaneous need...    107\n",
       "4996                           rabblerabblerabblerabble    193\n",
       "4997  little known fact viola french word stringed i...     -8\n",
       "4998                          dont think aint christian     -8"
      ]
     },
     "execution_count": 15,
     "metadata": {},
     "output_type": "execute_result"
    }
   ],
   "source": [
    "df.tail()"
   ]
  },
  {
   "cell_type": "code",
   "execution_count": 16,
   "metadata": {},
   "outputs": [
    {
     "data": {
      "text/plain": [
       "0       must retarded thought meant con lawl oh well work\n",
       "1                       downmodded irrelevance isnt works\n",
       "2       supposed mean place people undoubtedly snake b...\n",
       "3                      thought everyone fucking delicious\n",
       "4            great work zhesbe id give raise seem handled\n",
       "                              ...                        \n",
       "4994    dying words father son one day man approach se...\n",
       "4995    catering everyone impossible simultaneous need...\n",
       "4996                             rabblerabblerabblerabble\n",
       "4997    little known fact viola french word stringed i...\n",
       "4998                            dont think aint christian\n",
       "Name: text, Length: 4999, dtype: object"
      ]
     },
     "execution_count": 16,
     "metadata": {},
     "output_type": "execute_result"
    }
   ],
   "source": [
    "import re\n",
    "\n",
    "def remove_digits(text):\n",
    "    return re.sub(\"[0-9]+\",\" \",text)\n",
    "\n",
    "df[\"text\"] = df[\"text\"].apply(remove_digits)\n",
    "df[\"text\"]"
   ]
  },
  {
   "cell_type": "code",
   "execution_count": 17,
   "metadata": {},
   "outputs": [
    {
     "data": {
      "text/plain": [
       "0       must retarded thought meant con lawl oh well work\n",
       "1                       downmodded irrelevance isnt works\n",
       "2       supposed mean place people undoubtedly snake b...\n",
       "3                      thought everyone fucking delicious\n",
       "4            great work zhesbe id give raise seem handled\n",
       "                              ...                        \n",
       "4994    dying words father son one day man approach se...\n",
       "4995    catering everyone impossible simultaneous need...\n",
       "4996                             rabblerabblerabblerabble\n",
       "4997    little known fact viola french word stringed i...\n",
       "4998                            dont think aint christian\n",
       "Name: text, Length: 4999, dtype: object"
      ]
     },
     "execution_count": 17,
     "metadata": {},
     "output_type": "execute_result"
    }
   ],
   "source": [
    "def remove_url(text):\n",
    "    return re.sub(\"((www.[^s]+) | (https?://[^s]+))\",\" \",text)\n",
    "\n",
    "df[\"text\"] = df[\"text\"].apply(remove_url)\n",
    "df[\"text\"]"
   ]
  },
  {
   "cell_type": "code",
   "execution_count": 18,
   "metadata": {},
   "outputs": [
    {
     "data": {
      "text/html": [
       "<div>\n",
       "<style scoped>\n",
       "    .dataframe tbody tr th:only-of-type {\n",
       "        vertical-align: middle;\n",
       "    }\n",
       "\n",
       "    .dataframe tbody tr th {\n",
       "        vertical-align: top;\n",
       "    }\n",
       "\n",
       "    .dataframe thead th {\n",
       "        text-align: right;\n",
       "    }\n",
       "</style>\n",
       "<table border=\"1\" class=\"dataframe\">\n",
       "  <thead>\n",
       "    <tr style=\"text-align: right;\">\n",
       "      <th></th>\n",
       "      <th>text</th>\n",
       "      <th>Score</th>\n",
       "    </tr>\n",
       "  </thead>\n",
       "  <tbody>\n",
       "    <tr>\n",
       "      <th>4989</th>\n",
       "      <td>sick puppy oo called squirting lot guys get shit</td>\n",
       "      <td>-10</td>\n",
       "    </tr>\n",
       "    <tr>\n",
       "      <th>4990</th>\n",
       "      <td>im curious sadly ive found many men find tradi...</td>\n",
       "      <td>68</td>\n",
       "    </tr>\n",
       "    <tr>\n",
       "      <th>4991</th>\n",
       "      <td>anyone uptodate death toll</td>\n",
       "      <td>-105</td>\n",
       "    </tr>\n",
       "    <tr>\n",
       "      <th>4992</th>\n",
       "      <td>beginning heard nice english man speaking went...</td>\n",
       "      <td>-15</td>\n",
       "    </tr>\n",
       "    <tr>\n",
       "      <th>4993</th>\n",
       "      <td>careful srs doesnt hear</td>\n",
       "      <td>-8</td>\n",
       "    </tr>\n",
       "    <tr>\n",
       "      <th>4994</th>\n",
       "      <td>dying words father son one day man approach se...</td>\n",
       "      <td>234</td>\n",
       "    </tr>\n",
       "    <tr>\n",
       "      <th>4995</th>\n",
       "      <td>catering everyone impossible simultaneous need...</td>\n",
       "      <td>107</td>\n",
       "    </tr>\n",
       "    <tr>\n",
       "      <th>4996</th>\n",
       "      <td>rabblerabblerabblerabble</td>\n",
       "      <td>193</td>\n",
       "    </tr>\n",
       "    <tr>\n",
       "      <th>4997</th>\n",
       "      <td>little known fact viola french word stringed i...</td>\n",
       "      <td>-8</td>\n",
       "    </tr>\n",
       "    <tr>\n",
       "      <th>4998</th>\n",
       "      <td>dont think aint christian</td>\n",
       "      <td>-8</td>\n",
       "    </tr>\n",
       "  </tbody>\n",
       "</table>\n",
       "</div>"
      ],
      "text/plain": [
       "                                                   text  Score\n",
       "4989   sick puppy oo called squirting lot guys get shit    -10\n",
       "4990  im curious sadly ive found many men find tradi...     68\n",
       "4991                         anyone uptodate death toll   -105\n",
       "4992  beginning heard nice english man speaking went...    -15\n",
       "4993                            careful srs doesnt hear     -8\n",
       "4994  dying words father son one day man approach se...    234\n",
       "4995  catering everyone impossible simultaneous need...    107\n",
       "4996                           rabblerabblerabblerabble    193\n",
       "4997  little known fact viola french word stringed i...     -8\n",
       "4998                          dont think aint christian     -8"
      ]
     },
     "execution_count": 18,
     "metadata": {},
     "output_type": "execute_result"
    }
   ],
   "source": [
    "df.tail(10)"
   ]
  },
  {
   "cell_type": "code",
   "execution_count": 19,
   "metadata": {},
   "outputs": [
    {
     "data": {
      "text/plain": [
       "0       must retarded thought meant con lawl oh well work\n",
       "1                       downmodded irrelevance isnt works\n",
       "2       supposed mean place people undoubtedly snake b...\n",
       "3                      thought everyone fucking delicious\n",
       "4            great work zhesbe id give raise seem handled\n",
       "                              ...                        \n",
       "4994    dying words father son one day man approach se...\n",
       "4995    catering everyone impossible simultaneous need...\n",
       "4996                             rabblerabblerabblerabble\n",
       "4997    little known fact viola french word stringed i...\n",
       "4998                            dont think aint christian\n",
       "Name: text, Length: 4999, dtype: object"
      ]
     },
     "execution_count": 19,
     "metadata": {},
     "output_type": "execute_result"
    }
   ],
   "source": [
    "regex = r'\\b(\\w+)(?:\\W+\\1\\b)+'\n",
    "\n",
    "def clean_repeat_words(text):\n",
    "    return re.sub(regex,\" \",text)\n",
    "\n",
    "df[\"text\"] = df[\"text\"].apply(clean_repeat_words)\n",
    "df[\"text\"]"
   ]
  },
  {
   "cell_type": "code",
   "execution_count": 20,
   "metadata": {},
   "outputs": [
    {
     "data": {
      "text/html": [
       "<div>\n",
       "<style scoped>\n",
       "    .dataframe tbody tr th:only-of-type {\n",
       "        vertical-align: middle;\n",
       "    }\n",
       "\n",
       "    .dataframe tbody tr th {\n",
       "        vertical-align: top;\n",
       "    }\n",
       "\n",
       "    .dataframe thead th {\n",
       "        text-align: right;\n",
       "    }\n",
       "</style>\n",
       "<table border=\"1\" class=\"dataframe\">\n",
       "  <thead>\n",
       "    <tr style=\"text-align: right;\">\n",
       "      <th></th>\n",
       "      <th>text</th>\n",
       "      <th>Score</th>\n",
       "    </tr>\n",
       "  </thead>\n",
       "  <tbody>\n",
       "    <tr>\n",
       "      <th>0</th>\n",
       "      <td>must retarded thought meant con lawl oh well work</td>\n",
       "      <td>-8</td>\n",
       "    </tr>\n",
       "    <tr>\n",
       "      <th>1</th>\n",
       "      <td>downmodded irrelevance isnt works</td>\n",
       "      <td>-16</td>\n",
       "    </tr>\n",
       "    <tr>\n",
       "      <th>2</th>\n",
       "      <td>supposed mean place people undoubtedly snake b...</td>\n",
       "      <td>-7</td>\n",
       "    </tr>\n",
       "    <tr>\n",
       "      <th>3</th>\n",
       "      <td>thought everyone fucking delicious</td>\n",
       "      <td>67</td>\n",
       "    </tr>\n",
       "    <tr>\n",
       "      <th>4</th>\n",
       "      <td>great work zhesbe id give raise seem handled</td>\n",
       "      <td>1348</td>\n",
       "    </tr>\n",
       "    <tr>\n",
       "      <th>5</th>\n",
       "      <td>well whore like fox hard keep straight reporte...</td>\n",
       "      <td>-17</td>\n",
       "    </tr>\n",
       "    <tr>\n",
       "      <th>6</th>\n",
       "      <td>strangely downvoted</td>\n",
       "      <td>-22</td>\n",
       "    </tr>\n",
       "    <tr>\n",
       "      <th>7</th>\n",
       "      <td>okay pretty shitty day read comment thank oh o...</td>\n",
       "      <td>282</td>\n",
       "    </tr>\n",
       "    <tr>\n",
       "      <th>8</th>\n",
       "      <td>could rephrase paragraph long question form ac...</td>\n",
       "      <td>100</td>\n",
       "    </tr>\n",
       "    <tr>\n",
       "      <th>9</th>\n",
       "      <td>people also need cars trucks get places necess...</td>\n",
       "      <td>-7</td>\n",
       "    </tr>\n",
       "    <tr>\n",
       "      <th>10</th>\n",
       "      <td>thats pretty much exactly said figured perfect...</td>\n",
       "      <td>78</td>\n",
       "    </tr>\n",
       "    <tr>\n",
       "      <th>11</th>\n",
       "      <td>yeah bigotry totally gay</td>\n",
       "      <td>84</td>\n",
       "    </tr>\n",
       "    <tr>\n",
       "      <th>12</th>\n",
       "      <td>come op   minutes im dyin edit responded right...</td>\n",
       "      <td>189</td>\n",
       "    </tr>\n",
       "    <tr>\n",
       "      <th>13</th>\n",
       "      <td>see people use term quite lot think place redd...</td>\n",
       "      <td>-22</td>\n",
       "    </tr>\n",
       "    <tr>\n",
       "      <th>14</th>\n",
       "      <td>like one takes logical extreme</td>\n",
       "      <td>159</td>\n",
       "    </tr>\n",
       "    <tr>\n",
       "      <th>15</th>\n",
       "      <td>course libertarian system would likely allow i...</td>\n",
       "      <td>-7</td>\n",
       "    </tr>\n",
       "    <tr>\n",
       "      <th>16</th>\n",
       "      <td>unless wont seeing male fashion advice unless ...</td>\n",
       "      <td>-10</td>\n",
       "    </tr>\n",
       "    <tr>\n",
       "      <th>17</th>\n",
       "      <td>first offgood second havent already done start...</td>\n",
       "      <td>-7</td>\n",
       "    </tr>\n",
       "    <tr>\n",
       "      <th>18</th>\n",
       "      <td>get sandwich</td>\n",
       "      <td>96</td>\n",
       "    </tr>\n",
       "    <tr>\n",
       "      <th>19</th>\n",
       "      <td>came upvote first gay comment saw</td>\n",
       "      <td>-24</td>\n",
       "    </tr>\n",
       "    <tr>\n",
       "      <th>20</th>\n",
       "      <td>never elected</td>\n",
       "      <td>-9</td>\n",
       "    </tr>\n",
       "    <tr>\n",
       "      <th>21</th>\n",
       "      <td>worked provide affordable highquality child ...</td>\n",
       "      <td>452</td>\n",
       "    </tr>\n",
       "    <tr>\n",
       "      <th>22</th>\n",
       "      <td>ones working charity</td>\n",
       "      <td>323</td>\n",
       "    </tr>\n",
       "    <tr>\n",
       "      <th>23</th>\n",
       "      <td>first round loss blackhawks</td>\n",
       "      <td>-131</td>\n",
       "    </tr>\n",
       "    <tr>\n",
       "      <th>24</th>\n",
       "      <td>permastealth champ select</td>\n",
       "      <td>84</td>\n",
       "    </tr>\n",
       "  </tbody>\n",
       "</table>\n",
       "</div>"
      ],
      "text/plain": [
       "                                                 text  Score\n",
       "0   must retarded thought meant con lawl oh well work     -8\n",
       "1                   downmodded irrelevance isnt works    -16\n",
       "2   supposed mean place people undoubtedly snake b...     -7\n",
       "3                  thought everyone fucking delicious     67\n",
       "4        great work zhesbe id give raise seem handled   1348\n",
       "5   well whore like fox hard keep straight reporte...    -17\n",
       "6                                 strangely downvoted    -22\n",
       "7   okay pretty shitty day read comment thank oh o...    282\n",
       "8   could rephrase paragraph long question form ac...    100\n",
       "9   people also need cars trucks get places necess...     -7\n",
       "10  thats pretty much exactly said figured perfect...     78\n",
       "11                           yeah bigotry totally gay     84\n",
       "12  come op   minutes im dyin edit responded right...    189\n",
       "13  see people use term quite lot think place redd...    -22\n",
       "14                     like one takes logical extreme    159\n",
       "15  course libertarian system would likely allow i...     -7\n",
       "16  unless wont seeing male fashion advice unless ...    -10\n",
       "17  first offgood second havent already done start...     -7\n",
       "18                                       get sandwich     96\n",
       "19                  came upvote first gay comment saw    -24\n",
       "20                                      never elected     -9\n",
       "21    worked provide affordable highquality child ...    452\n",
       "22                               ones working charity    323\n",
       "23                        first round loss blackhawks   -131\n",
       "24                          permastealth champ select     84"
      ]
     },
     "execution_count": 20,
     "metadata": {},
     "output_type": "execute_result"
    }
   ],
   "source": [
    "df.head(25)"
   ]
  },
  {
   "cell_type": "code",
   "execution_count": 21,
   "metadata": {},
   "outputs": [
    {
     "data": {
      "text/plain": [
       "<PorterStemmer>"
      ]
     },
     "execution_count": 21,
     "metadata": {},
     "output_type": "execute_result"
    }
   ],
   "source": [
    "from nltk.stem import PorterStemmer\n",
    "ps = PorterStemmer()\n",
    "ps"
   ]
  },
  {
   "cell_type": "code",
   "execution_count": 22,
   "metadata": {},
   "outputs": [
    {
     "data": {
      "text/html": [
       "<div>\n",
       "<style scoped>\n",
       "    .dataframe tbody tr th:only-of-type {\n",
       "        vertical-align: middle;\n",
       "    }\n",
       "\n",
       "    .dataframe tbody tr th {\n",
       "        vertical-align: top;\n",
       "    }\n",
       "\n",
       "    .dataframe thead th {\n",
       "        text-align: right;\n",
       "    }\n",
       "</style>\n",
       "<table border=\"1\" class=\"dataframe\">\n",
       "  <thead>\n",
       "    <tr style=\"text-align: right;\">\n",
       "      <th></th>\n",
       "      <th>text</th>\n",
       "      <th>Score</th>\n",
       "    </tr>\n",
       "  </thead>\n",
       "  <tbody>\n",
       "    <tr>\n",
       "      <th>4994</th>\n",
       "      <td>dying words father son one day man approach se...</td>\n",
       "      <td>234</td>\n",
       "    </tr>\n",
       "    <tr>\n",
       "      <th>4995</th>\n",
       "      <td>catering everyone impossible simultaneous need...</td>\n",
       "      <td>107</td>\n",
       "    </tr>\n",
       "    <tr>\n",
       "      <th>4996</th>\n",
       "      <td>rabblerabblerabblerabble</td>\n",
       "      <td>193</td>\n",
       "    </tr>\n",
       "    <tr>\n",
       "      <th>4997</th>\n",
       "      <td>little known fact viola french word stringed i...</td>\n",
       "      <td>-8</td>\n",
       "    </tr>\n",
       "    <tr>\n",
       "      <th>4998</th>\n",
       "      <td>dont think aint christian</td>\n",
       "      <td>-8</td>\n",
       "    </tr>\n",
       "  </tbody>\n",
       "</table>\n",
       "</div>"
      ],
      "text/plain": [
       "                                                   text  Score\n",
       "4994  dying words father son one day man approach se...    234\n",
       "4995  catering everyone impossible simultaneous need...    107\n",
       "4996                           rabblerabblerabblerabble    193\n",
       "4997  little known fact viola french word stringed i...     -8\n",
       "4998                          dont think aint christian     -8"
      ]
     },
     "execution_count": 22,
     "metadata": {},
     "output_type": "execute_result"
    }
   ],
   "source": [
    "def stemming_data(data):\n",
    "  text = [ps.stem(data) for word in data]\n",
    "  return data\n",
    "\n",
    "df[\"text\"] = df[\"text\"].apply(lambda x: stemming_data(x))\n",
    "df.tail()"
   ]
  },
  {
   "cell_type": "code",
   "execution_count": 23,
   "metadata": {},
   "outputs": [
    {
     "data": {
      "text/html": [
       "<div>\n",
       "<style scoped>\n",
       "    .dataframe tbody tr th:only-of-type {\n",
       "        vertical-align: middle;\n",
       "    }\n",
       "\n",
       "    .dataframe tbody tr th {\n",
       "        vertical-align: top;\n",
       "    }\n",
       "\n",
       "    .dataframe thead th {\n",
       "        text-align: right;\n",
       "    }\n",
       "</style>\n",
       "<table border=\"1\" class=\"dataframe\">\n",
       "  <thead>\n",
       "    <tr style=\"text-align: right;\">\n",
       "      <th></th>\n",
       "      <th>text</th>\n",
       "      <th>Score</th>\n",
       "    </tr>\n",
       "  </thead>\n",
       "  <tbody>\n",
       "    <tr>\n",
       "      <th>4994</th>\n",
       "      <td>dying words father son one day man approach se...</td>\n",
       "      <td>234</td>\n",
       "    </tr>\n",
       "    <tr>\n",
       "      <th>4995</th>\n",
       "      <td>catering everyone impossible simultaneous need...</td>\n",
       "      <td>107</td>\n",
       "    </tr>\n",
       "    <tr>\n",
       "      <th>4996</th>\n",
       "      <td>rabblerabblerabblerabble</td>\n",
       "      <td>193</td>\n",
       "    </tr>\n",
       "    <tr>\n",
       "      <th>4997</th>\n",
       "      <td>little known fact viola french word stringed i...</td>\n",
       "      <td>-8</td>\n",
       "    </tr>\n",
       "    <tr>\n",
       "      <th>4998</th>\n",
       "      <td>dont think aint christian</td>\n",
       "      <td>-8</td>\n",
       "    </tr>\n",
       "  </tbody>\n",
       "</table>\n",
       "</div>"
      ],
      "text/plain": [
       "                                                   text  Score\n",
       "4994  dying words father son one day man approach se...    234\n",
       "4995  catering everyone impossible simultaneous need...    107\n",
       "4996                           rabblerabblerabblerabble    193\n",
       "4997  little known fact viola french word stringed i...     -8\n",
       "4998                          dont think aint christian     -8"
      ]
     },
     "execution_count": 23,
     "metadata": {},
     "output_type": "execute_result"
    }
   ],
   "source": [
    "from nltk.stem import WordNetLemmatizer\n",
    "wnl = WordNetLemmatizer()\n",
    "\n",
    "def lemmatizer_on_text(data):\n",
    "    text = [wnl.lemmatize(word) for word in data]\n",
    "    return data\n",
    "\n",
    "df['text'] = df['text'].apply(lambda x : lemmatizer_on_text(x))\n",
    "df.tail()"
   ]
  },
  {
   "cell_type": "code",
   "execution_count": 24,
   "metadata": {},
   "outputs": [],
   "source": [
    "X = df.drop('Score', axis = 1)\n",
    "y = df['Score']"
   ]
  },
  {
   "cell_type": "code",
   "execution_count": 25,
   "metadata": {},
   "outputs": [],
   "source": [
    "from sklearn.model_selection import train_test_split\n",
    "X_train, X_test, y_train, y_test = train_test_split(X, y, test_size = 0.2, random_state = 0)"
   ]
  },
  {
   "cell_type": "code",
   "execution_count": 26,
   "metadata": {},
   "outputs": [
    {
     "data": {
      "text/plain": [
       "TfidfVectorizer(analyzer='word', binary=False, decode_error='strict',\n",
       "                dtype=<class 'numpy.float64'>, encoding='utf-8',\n",
       "                input='content', lowercase=True, max_df=1.0, max_features=None,\n",
       "                min_df=1, ngram_range=(1, 1), norm='l2', preprocessor=None,\n",
       "                smooth_idf=True, stop_words=None, strip_accents=None,\n",
       "                sublinear_tf=False, token_pattern='(?u)\\\\b\\\\w\\\\w+\\\\b',\n",
       "                tokenizer=None, use_idf=True, vocabulary=None)"
      ]
     },
     "execution_count": 26,
     "metadata": {},
     "output_type": "execute_result"
    }
   ],
   "source": [
    "from sklearn.feature_extraction.text import TfidfVectorizer\n",
    "tfidf = TfidfVectorizer()\n",
    "tfidf"
   ]
  },
  {
   "cell_type": "code",
   "execution_count": 27,
   "metadata": {},
   "outputs": [],
   "source": [
    "X_train_tfidf = tfidf.fit_transform(X_train['text'])"
   ]
  },
  {
   "cell_type": "code",
   "execution_count": 28,
   "metadata": {},
   "outputs": [],
   "source": [
    "X_test_tfidf = tfidf.transform(X_test['text'])"
   ]
  },
  {
   "cell_type": "code",
   "execution_count": 29,
   "metadata": {},
   "outputs": [
    {
     "data": {
      "text/plain": [
       "LogisticRegression(C=1.0, class_weight=None, dual=False, fit_intercept=True,\n",
       "                   intercept_scaling=1, l1_ratio=None, max_iter=100,\n",
       "                   multi_class='auto', n_jobs=None, penalty='l2',\n",
       "                   random_state=None, solver='lbfgs', tol=0.0001, verbose=0,\n",
       "                   warm_start=False)"
      ]
     },
     "execution_count": 29,
     "metadata": {},
     "output_type": "execute_result"
    }
   ],
   "source": [
    "from sklearn.linear_model import LogisticRegression\n",
    "lr = LogisticRegression()\n",
    "lr"
   ]
  },
  {
   "cell_type": "code",
   "execution_count": 30,
   "metadata": {},
   "outputs": [
    {
     "data": {
      "text/plain": [
       "LogisticRegression(C=1.0, class_weight=None, dual=False, fit_intercept=True,\n",
       "                   intercept_scaling=1, l1_ratio=None, max_iter=100,\n",
       "                   multi_class='auto', n_jobs=None, penalty='l2',\n",
       "                   random_state=None, solver='lbfgs', tol=0.0001, verbose=0,\n",
       "                   warm_start=False)"
      ]
     },
     "execution_count": 30,
     "metadata": {},
     "output_type": "execute_result"
    }
   ],
   "source": [
    "lr.fit(X_train_tfidf, y_train)"
   ]
  },
  {
   "cell_type": "code",
   "execution_count": 31,
   "metadata": {},
   "outputs": [
    {
     "data": {
      "text/plain": [
       "array([ -7,  -7,  -7,  -7,  -7,  -7,  -9,  -7,  -7,  -7,  -9,  -7,  -7,\n",
       "        -7,  -7,  -7,  -7,  -7,  -8,  -7,  -8,  -7,  -7,  -9,  -7,  -8,\n",
       "        -7,  -7,  -9,  -8,  -7,  -7,  -9,  -7,  -9,  -7,  -9,  -7,  -7,\n",
       "        -7,  -7,  -7,  -7,  -8,  -8,  -7,  -7,  -7,  -7,  -7,  -7,  -7,\n",
       "        -8,  -8,  -9,  -7,  -7,  -7,  -7,  -9,  -7,  -7,  -7,  -7,  -7,\n",
       "        -8,  -9,  -7,  -7,  -7,  -9,  -7,  -8,  -7,  -7,  -8,  -7,  -8,\n",
       "        -7,  -7,  -7,  -8,  -8,  -7,  -7,  -7,  -7,  -7,  -7,  -7,  -7,\n",
       "        -7,  -8,  -7,  -7,  -7,  -7,  -7,  -7,  -9,  -7,  -7,  -8,  -7,\n",
       "        -7,  -7,  -7,  -8,  -7,  -7,  -7,  -7,  -7,  -8,  -7,  -8,  -7,\n",
       "        -7,  -7,  -8,  -7,  -8,  -7,  -7,  -7,  -8,  -9,  -7,  -7,  -7,\n",
       "        -8,  -7,  -7,  -7,  -7,  -8,  -7,  -7,  -7, -10, -10,  -9,  -9,\n",
       "        -8,  -7,  -7,  -7,  -7,  -8,  -9,  -7,  -7,  -8,  -7,  -7,  -7,\n",
       "        -7,  -7,  -8,  -7,  -9,  -7,  -7,  -7,  -7,  -7,  -8,  -8,  -9,\n",
       "        -7,  -7,  -8,  -8,  -7,  -7,  -7,  -7,  -7,  -9,  -7,  -7,  -7,\n",
       "        -7,  -7,  -7,  -7,  -7, -10,  -7,  -7,  -9,  -8,  -7,  -7,  -7,\n",
       "        -7,  -7,  -7,  -7,  -8,  -7,  -7,  -7,  -7,  -9,  -7,  -7,  -7,\n",
       "        -7,  -8,  -7,  -9,  -8,  -7,  -7,  -7,  -7,  -7,  -7,  -8,  -7,\n",
       "        -9,  -7,  -7,  -7,  -7,  -7,  -7,  -7,  -7,  -7,  -7,  -8, -11,\n",
       "        -8,  -7,  -7,  -7,  -8,  -7,  -7,  -7,  -7,  -7,  -7,  -7,  -7,\n",
       "        -9,  -8,  -7,  -9,  -7,  -8,  -7,  -7,  -8,  -7,  -7,  -9,  -7,\n",
       "        -7,  -7,  -7,  -7,  -7,  -9,  -8,  -7,  -9,  -9,  -7,  -7,  -7,\n",
       "        -7,  -7,  -7,  -7,  -7,  -8,  -7,  -7,  -7,  -7,  -7,  -7,  -7,\n",
       "        -8,  -8,  -7,  -7,  -7,  -7,  -7,  -7,  -7,  -8,  -8,  -8,  -7,\n",
       "        -7,  -7,  -7,  -7,  -8,  -8,  -7,  -8,  -7,  -7,  -7,  -7,  -7,\n",
       "        -7,  -9,  -8,  -7,  -7,  -8,  -7,  -8,  -7,  -8,  -7,  -9,  -8,\n",
       "        -7,  -7,  -7,  -7,  -7,  -7,  -7,  -7,  -7,  -7,  -8,  -8,  -9,\n",
       "        -8,  -7,  -8,  -7,  -7,  -8,  -7,  -7,  -7,  -7,  -8,  -7,  -7,\n",
       "        -7,  -7,  -7,  -9,  -7,  -7,  -9,  -7,  -8,  -7,  -9,  -8,  -7,\n",
       "        -7,  -7,  -7,  -7,  -7,  -7,  -7,  -7,  -7,  -7,  -7,  -7,  -7,\n",
       "        -7,  -7,  -8,  -8,  -7,  -7,  -7,  -8,  -7,  -7,  -7,  -7,  -8,\n",
       "        -7,  -7,  -7,  -7,  -8,  -7,  -7,  -7,  -8,  -7,  -9,  -7,  -7,\n",
       "        -8,  -7,  -7,  -8,  -8,  -8,  -7,  -7,  -7,  -7,  -7,  -7,  -7,\n",
       "        -7,  -8,  -7,  -7,  -9,  -7,  -7,  -7,  -8,  -7,  -9,  -7,  -9,\n",
       "        -7,  -7,  -7,  -9,  -8,  -7,  -7,  -7,  -7,  -7,  -8,  -7,  -8,\n",
       "        -7,  -7,  -7,  -7,  -7,  -9,  -7,  -9,  -7,  -7,  -7,  -8,  -7,\n",
       "        -7,  -8,  -7,  -9,  -8,  -8,  -7,  -8,  -7,  -7,  -7,  -7,  -7,\n",
       "        -7,  -7,  -9,  -7,  -7,  -7,  -7,  -7,  -8,  -7,  -7,  -7,  -7,\n",
       "        -7,  -7,  -7,  -8,  -7,  -8,  -7,  -7,  -7,  -8,  -7,  -7,  -7,\n",
       "        -8,  -7,  -7,  -7,  -7,  -8,  -7,  -8,  -7,  -7,  -7,  -7,  -7,\n",
       "        -8,  -7,  -8,  -8,  -7,  -7,  -7,  -7,  -9,  -7,  -9,  -8,  -7,\n",
       "        -7,  -7,  -7,  -7,  -7,  -8,  -7,  -7,  -7,  -7,  -7,  -7,  -7,\n",
       "        -7,  -7,  -7,  -7,  -7,  -9,  -7,  -8,  -8,  -7,  -7,  -7,  -8,\n",
       "        -8,  -7,  -7,  -8,  -7,  -7,  -7,  -7,  -8,  -7,  -8,  -9,  -7,\n",
       "        -7,  -7,  -8,  -7,  -8,  -7,  -7,  -7,  -9,  -8,  -7,  -7,  -8,\n",
       "        -7,  -7,  -7,  -8,  -7,  -7,  -7,  -7,  -8,  -7,  -7,  -7,  -9,\n",
       "        -7,  -7,  -8,  -7,  -7,  -7,  -7,  -7,  -7,  -7,  -8,  -7,  -7,\n",
       "        -7,  -7,  -8,  -7,  -7,  -7,  -7,  -7,  -9,  -9,  -7,  -7,  -7,\n",
       "        -8,  -7,  -7,  -9,  -7,  -7,  -7,  -9,  -8,  -7,  -7,  -7,  -7,\n",
       "        -7,  -7,  -9,  -9,  -8,  -9,  -7,  -7,  -7,  -7,  -7,  -7,  -7,\n",
       "        -7,  -7,  -7,  -7,  -7,  -7, -10,  -7,  -7,  -7,  -8,  -8,  -7,\n",
       "        -7,  -9,  -7,  -7,  -7,  -7,  -7,  -7,  -7, -10,  -8,  -8,  -7,\n",
       "        -8,  -7,  -7,  -8,  -7,  -7,  -7,  -7,  -7,  -9,  -9,  -7,  -8,\n",
       "        -7,  -7,  -7,  -7,  -7,  -7,  -7,  -7,  -7,  -7,  -9,  -9,  -8,\n",
       "        -7,  -7,  -7,  -7,  -7,  -7,  -7,  -8,  -7,  -7,  -7,  -8,  -7,\n",
       "        -8,  -8,  -9,  -7,  -7,  -7,  -8,  -7,  -7,  -7,  -7,  -7,  -7,\n",
       "        -7,  -8,  -7,  -8,  -9,  -7,  -9,  -7,  -8,  -9,  -7,  -7,  -7,\n",
       "        -7,  -7,  -7,  -7,  -9,  -7,  -8,  -7,  -8,  -7,  -7,  -7,  -7,\n",
       "        -8,  -7,  -7,  -9,  -7,  -7,  -9,  -7,  -7,  -7,  -7,  -8,  -7,\n",
       "        -7,  -7,  -7,  -7,  -7,  -7, -11,  -8,  -9,  -7,  -7,  -7,  -8,\n",
       "        -7,  -8,  -9,  -7,  -7,  -8,  -7,  -7,  -8,  -8,  -7,  -7,  -8,\n",
       "        -7,  -7,  -7,  -7,  -7,  -7,  -7,  -7,  -7,  -7,  -8,  -8,  -7,\n",
       "        -7,  -7,  -7,  -7,  -7,  -9,  -7,  -7,  -7,  -8,  -9,  -8,  -7,\n",
       "        -8,  -7,  -7,  -8,  -7,  -7,  -7,  -8,  -8,  -7,  -8,  -7,  -9,\n",
       "        -7,  -7,  -7,  -7,  -8,  -7,  -7,  -7,  -7,  -8,  -7,  -7,  -7,\n",
       "        -7,  -7,  -7,  -7,  -8,  -7,  -7,  -8,  -8,  -7,  -9,  -7,  -7,\n",
       "        -7,  -8,  -8,  -8,  -9,  -7,  -8,  -7,  -8,  -7,  -8,  -7,  -9,\n",
       "        -7,  -7,  -9,  -7,  -7,  -7,  -7,  -8,  -7,  -7,  -9,  -9,  -8,\n",
       "        -8,  -7,  -9,  -7,  -7,  -7,  -8,  -7,  -8,  -7,  -9,  -8,  -9,\n",
       "        -7,  -7,  -7,  -7,  -7,  -7,  -7,  -9,  -7,  -7,  -7,  -9,  -7,\n",
       "        -8,  -7,  -7,  -7,  -7,  -7,  -7,  -8,  -7,  -7,  -7,  -7,  -9,\n",
       "        -8,  -7,  -8,  -9,  -7,  -7,  -8,  -7,  -7,  -7,  -8,  -7,  -7,\n",
       "        -8,  -7,  -7,  -7,  -7,  -7,  -8,  -9,  -7,  -7,  -7,  -7,  -7,\n",
       "        -7,  -7,  -7,  -7,  -7,  -7,  -7,  -7,  -8,  -7,  -7,  -7,  -7,\n",
       "        -7,  -7,  -8,  -7,  -7,  -9,  -7,  -7,  -9,  -8,  -7,  -7,  -7,\n",
       "        -8,  -7,  -7,  -7,  -9,  -7,  -7,  -8,  -7,  -7,  -7,  -7,  -7,\n",
       "        -7,  -7,  -7,  -7,  -8,  -7, -10,  -7,  -7,  -7,  -7,  -7,  -7,\n",
       "        -7,  -7,  -7,  -7,  -7,  -7,  -7,  -9,  -7,  -7,  -7,  -7],\n",
       "      dtype=int64)"
      ]
     },
     "execution_count": 31,
     "metadata": {},
     "output_type": "execute_result"
    }
   ],
   "source": [
    "y_pred = lr.predict(X_test_tfidf)\n",
    "y_pred"
   ]
  },
  {
   "cell_type": "code",
   "execution_count": 32,
   "metadata": {},
   "outputs": [
    {
     "name": "stdout",
     "output_type": "stream",
     "text": [
      "RMSE: 217.8639713215565\n"
     ]
    }
   ],
   "source": [
    "from sklearn.metrics import mean_squared_error\n",
    "rmse = np.sqrt(mean_squared_error(y_test, y_pred))\n",
    "\n",
    "print(\"RMSE:\", rmse)"
   ]
  },
  {
   "cell_type": "code",
   "execution_count": 33,
   "metadata": {},
   "outputs": [
    {
     "data": {
      "text/plain": [
       "BernoulliNB(alpha=1.0, binarize=0.0, class_prior=None, fit_prior=True)"
      ]
     },
     "execution_count": 33,
     "metadata": {},
     "output_type": "execute_result"
    }
   ],
   "source": [
    "from sklearn.naive_bayes import BernoulliNB\n",
    "bnb = BernoulliNB()\n",
    "bnb"
   ]
  },
  {
   "cell_type": "code",
   "execution_count": 34,
   "metadata": {},
   "outputs": [
    {
     "data": {
      "text/plain": [
       "BernoulliNB(alpha=1.0, binarize=0.0, class_prior=None, fit_prior=True)"
      ]
     },
     "execution_count": 34,
     "metadata": {},
     "output_type": "execute_result"
    }
   ],
   "source": [
    "bnb.fit(X_train_tfidf, y_train)"
   ]
  },
  {
   "cell_type": "code",
   "execution_count": 35,
   "metadata": {},
   "outputs": [
    {
     "data": {
      "text/plain": [
       "array([-7, -7, -7, -7, -7, -7, -7, -7, -7, -7, -7, -7, -7, -7, -7, -7, -7,\n",
       "       -7, -7, -7, -7, -7, -7, -7, -7, -7, -7, -7, -7, -7, -7, -7, -7, -7,\n",
       "       -7, -7, -7, -7, -7, -7, -7, -7, -7, -7, -7, -7, -7, -7, -7, -7, -7,\n",
       "       -7, -7, -7, -7, -7, -7, -7, -9, -7, -7, -7, -7, -7, -7, -7, -7, -7,\n",
       "       -7, -7, -9, -7, -7, -7, -7, -7, -7, -7, -7, -7, -7, -7, -7, -7, -7,\n",
       "       -7, -7, -7, -7, -7, -7, -7, -7, -7, -7, -7, -7, -7, -7, -7, -7, -7,\n",
       "       -7, -7, -7, -7, -7, -7, -7, -7, -7, -7, -7, -7, -7, -7, -7, -7, -7,\n",
       "       -7, -7, -7, -7, -7, -7, -7, -7, -7, -7, -7, -7, -7, -7, -7, -7, -7,\n",
       "       -7, -7, -7, -7, -7, -7, -9, -7, -7, -7, -7, -7, -7, -7, -7, -7, -7,\n",
       "       -7, -7, -7, -7, -7, -7, -7, -7, -7, -7, -7, -7, -7, -7, -7, -7, -7,\n",
       "       -7, -7, -7, -7, -7, -7, -7, -7, -7, -7, -7, -7, -7, -7, -7, -7, -7,\n",
       "       -7, -7, -7, -7, -7, -7, -7, -7, -7, -7, -7, -7, -7, -7, -7, -7, -7,\n",
       "       -7, -7, -7, -7, -7, -7, -7, -7, -7, -7, -7, -7, -7, -7, -7, -7, -7,\n",
       "       -7, -7, -7, -7, -7, -7, -7, -7, -7, -7, -7, -7, -7, -7, -7, -7, -7,\n",
       "       -7, -7, -7, -7, -7, -7, -7, -7, -7, -7, -7, -7, -7, -7, -7, -7, -7,\n",
       "       -7, -7, -7, -7, -7, -7, -7, -7, -7, -7, -7, -7, -7, -7, -7, -7, -7,\n",
       "       -7, -7, -7, -7, -7, -7, -7, -7, -7, -7, -7, -7, -7, -7, -7, -7, -7,\n",
       "       -7, -7, -7, -7, -7, -7, -7, -7, -7, -7, -7, -7, -7, -7, -7, -7, -7,\n",
       "       -7, -7, -7, -7, -7, -7, -7, -7, -7, -7, -7, -7, -7, -7, -7, -7, -7,\n",
       "       -7, -7, -7, -7, -7, -7, -7, -7, -7, -7, -7, -7, -7, -7, -7, -7, -7,\n",
       "       -7, -7, -7, -7, -7, -7, -7, -7, -7, -7, -7, -7, -7, -7, -7, -7, -7,\n",
       "       -7, -7, -7, -7, -7, -7, -7, -7, -7, -7, -7, -7, -7, -7, -7, -7, -7,\n",
       "       -7, -7, -7, -7, -7, -7, -7, -7, -7, -7, -7, -7, -7, -7, -7, -7, -7,\n",
       "       -7, -7, -7, -7, -7, -7, -7, -7, -7, -7, -7, -7, -7, -7, -7, -7, -7,\n",
       "       -7, -7, -7, -7, -7, -7, -7, -7, -7, -7, -9, -7, -7, -7, -7, -7, -7,\n",
       "       -7, -7, -7, -7, -7, -7, -7, -7, -7, -7, -7, -7, -7, -7, -7, -7, -7,\n",
       "       -7, -7, -7, -7, -7, -7, -7, -7, -7, -7, -7, -7, -7, -7, -7, -7, -7,\n",
       "       -7, -7, -7, -7, -7, -7, -9, -7, -7, -7, -7, -7, -7, -7, -7, -7, -7,\n",
       "       -7, -7, -7, -7, -7, -7, -7, -7, -7, -7, -7, -7, -7, -7, -7, -7, -7,\n",
       "       -7, -7, -7, -7, -7, -7, -7, -7, -7, -7, -7, -7, -7, -7, -7, -7, -7,\n",
       "       -7, -7, -7, -7, -7, -7, -7, -7, -7, -7, -7, -7, -7, -7, -7, -7, -7,\n",
       "       -7, -7, -7, -7, -7, -7, -7, -7, -7, -7, -7, -7, -7, -7, -7, -7, -7,\n",
       "       -7, -7, -7, -7, -7, -7, -7, -7, -7, -7, -7, -7, -7, -7, -7, -7, -7,\n",
       "       -7, -7, -7, -7, -7, -7, -7, -7, -7, -7, -7, -7, -7, -7, -7, -7, -7,\n",
       "       -7, -7, -7, -7, -7, -7, -7, -7, -7, -7, -7, -7, -7, -7, -7, -7, -7,\n",
       "       -7, -7, -7, -7, -7, -7, -7, -7, -7, -9, -9, -7, -7, -7, -7, -7, -7,\n",
       "       -7, -7, -7, -7, -7, -7, -7, -7, -7, -7, -7, -7, -7, -7, -7, -7, -7,\n",
       "       -7, -7, -7, -7, -7, -7, -7, -8, -7, -7, -7, -7, -7, -7, -7, -7, -7,\n",
       "       -7, -7, -7, -7, -7, -7, -7, -7, -7, -7, -7, -7, -7, -7, -7, -7, -7,\n",
       "       -7, -7, -7, -7, -7, -7, -7, -7, -7, -7, -7, -7, -7, -7, -7, -7, -7,\n",
       "       -7, -7, -7, -7, -7, -7, -7, -7, -7, -7, -7, -7, -7, -7, -7, -7, -7,\n",
       "       -7, -7, -7, -7, -7, -7, -7, -7, -7, -7, -7, -7, -7, -7, -7, -7, -7,\n",
       "       -7, -7, -7, -7, -7, -7, -7, -7, -7, -7, -7, -7, -7, -7, -7, -7, -7,\n",
       "       -7, -7, -7, -7, -7, -7, -7, -7, -7, -7, -7, -7, -7, -7, -7, -7, -7,\n",
       "       -7, -7, -7, -7, -7, -7, -7, -7, -7, -7, -7, -7, -7, -7, -7, -7, -7,\n",
       "       -7, -7, -7, -7, -7, -7, -7, -7, -7, -7, -7, -7, -7, -7, -7, -7, -7,\n",
       "       -7, -7, -7, -7, -7, -7, -7, -7, -7, -7, -7, -7, -7, -7, -7, -7, -7,\n",
       "       -8, -7, -7, -7, -7, -7, -7, -7, -7, -7, -7, -7, -7, -7, -7, -7, -7,\n",
       "       -7, -7, -7, -7, -7, -7, -7, -7, -7, -7, -7, -7, -7, -7, -7, -7, -7,\n",
       "       -9, -7, -7, -7, -7, -7, -7, -7, -7, -7, -7, -7, -7, -7, -7, -7, -7,\n",
       "       -7, -7, -7, -7, -7, -7, -7, -7, -7, -7, -7, -7, -7, -7, -7, -7, -7,\n",
       "       -7, -7, -7, -7, -7, -7, -7, -7, -7, -7, -7, -7, -7, -7, -7, -7, -7,\n",
       "       -7, -7, -7, -7, -7, -7, -7, -7, -7, -7, -7, -7, -7, -7, -7, -7, -7,\n",
       "       -7, -7, -7, -7, -7, -7, -7, -7, -7, -7, -7, -7, -7, -7, -7, -7, -7,\n",
       "       -7, -7, -7, -7, -7, -7, -7, -7, -7, -7, -7, -7, -7, -7, -7, -7, -7,\n",
       "       -7, -7, -7, -7, -7, -7, -7, -7, -7, -7, -7, -7, -7, -7, -7, -7, -7,\n",
       "       -7, -7, -7, -7, -7, -7, -7, -7, -7, -7, -7, -7, -7, -7, -7, -7, -7,\n",
       "       -7, -7, -7, -7, -7, -7, -7, -7, -7, -7, -7, -7, -7, -7, -7, -7, -7,\n",
       "       -7, -7, -7, -7, -7, -7, -7, -7, -7, -7, -7, -7, -7, -7],\n",
       "      dtype=int64)"
      ]
     },
     "execution_count": 35,
     "metadata": {},
     "output_type": "execute_result"
    }
   ],
   "source": [
    "y_pred_bnb = bnb.predict(X_test_tfidf)\n",
    "y_pred_bnb"
   ]
  },
  {
   "cell_type": "code",
   "execution_count": 36,
   "metadata": {},
   "outputs": [
    {
     "name": "stdout",
     "output_type": "stream",
     "text": [
      "RMSE: 217.66399794178182\n"
     ]
    }
   ],
   "source": [
    "from sklearn.metrics import mean_squared_error\n",
    "rmse = np.sqrt(mean_squared_error(y_test, y_pred_bnb))\n",
    "\n",
    "print(\"RMSE:\", rmse)"
   ]
  },
  {
   "cell_type": "code",
   "execution_count": null,
   "metadata": {},
   "outputs": [],
   "source": []
  }
 ],
 "metadata": {
  "kernelspec": {
   "display_name": "Python 3",
   "language": "python",
   "name": "python3"
  },
  "language_info": {
   "codemirror_mode": {
    "name": "ipython",
    "version": 3
   },
   "file_extension": ".py",
   "mimetype": "text/x-python",
   "name": "python",
   "nbconvert_exporter": "python",
   "pygments_lexer": "ipython3",
   "version": "3.7.6"
  }
 },
 "nbformat": 4,
 "nbformat_minor": 4
}
